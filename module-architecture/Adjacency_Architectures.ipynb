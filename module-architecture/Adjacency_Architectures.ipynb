{
 "cells": [
  {
   "cell_type": "markdown",
   "metadata": {},
   "source": [
    "# Quantitative analysis - Module adjacency and architecture"
   ]
  },
  {
   "cell_type": "code",
   "execution_count": 1,
   "metadata": {},
   "outputs": [],
   "source": [
    "import csv\n",
    "from itertools import chain, product\n",
    "import matplotlib.pyplot as plt\n",
    "import matplotlib.ticker as ticker\n",
    "import mysql.connector\n",
    "import numpy as np\n",
    "import pandas as pd\n",
    "import pickle\n",
    "import re\n",
    "import seaborn as sb\n",
    "\n",
    "user = 'xxxx' # fill in MySQL user\n",
    "password = 'xxxx' # fill in MySQL pw\n",
    "db = 'xxxx' # fill in MySQL database name\n",
    "socket = '/x/x/x/x.sock' # fill in MySQL unix socket"
   ]
  },
  {
   "cell_type": "markdown",
   "metadata": {},
   "source": [
    "## Data"
   ]
  },
  {
   "cell_type": "markdown",
   "metadata": {},
   "source": [
    "### Wrangle accessions"
   ]
  },
  {
   "cell_type": "code",
   "execution_count": 2,
   "metadata": {},
   "outputs": [],
   "source": [
    "cnx = mysql.connector.connect(user=user, password=password, database=db, unix_socket=socket)\n",
    "cursor = cnx.cursor()\n",
    "cursor.execute(\"SELECT DISTINCT(UniProt_ID), type, type_evidence, type_probability FROM UniProt;\")\n",
    "\n",
    "up_acc = []\n",
    "types = []\n",
    "type_evidence = []\n",
    "type_probability = []\n",
    "for i in cursor:\n",
    "    up_acc.append(i[0])\n",
    "    types.append(i[1])\n",
    "    type_evidence.append(i[2])\n",
    "    type_probability.append(i[3])\n",
    "tmp = {'type' : types, 'type_evidence' : type_evidence, 'type_probability' : type_probability}\n",
    "main_table = pd.DataFrame(tmp, index=up_acc)\n",
    "#main_table"
   ]
  },
  {
   "cell_type": "code",
   "execution_count": 3,
   "metadata": {},
   "outputs": [],
   "source": [
    "### set confidence level threshold for protein typing\n",
    "endolysins = [i for i in main_table.index if main_table.loc[i, 'type'] == 'endolysin' and main_table.loc[i, 'type_probability'] >= 75]\n",
    "vals = [i for i in main_table.index if main_table.loc[i, 'type'] == 'VAL' and main_table.loc[i, 'type_probability'] >= 75]\n",
    "unclass = [i for i in main_table.index if i not in endolysins and i not in vals]"
   ]
  },
  {
   "cell_type": "markdown",
   "metadata": {},
   "source": [
    "Endolysins and VALs used for analyses will consist of the proteins that have been called as such with a certainty of at least 75%."
   ]
  },
  {
   "cell_type": "code",
   "execution_count": 4,
   "metadata": {},
   "outputs": [],
   "source": [
    "### VAL vs endolysin sequences\n",
    "cnx = mysql.connector.connect(user=user, password=password, database=db, unix_socket=socket)\n",
    "\n",
    "cursor = cnx.cursor()\n",
    "cursor.execute(\"SELECT ur.protein_sequence, up.UniProt_ID FROM UniProt as up JOIN UniRef as ur WHERE up.UniRef_ID = ur.UniRef_ID;\")\n",
    "\n",
    "endolysin_seqs = []\n",
    "val_seqs = []\n",
    "acc2seq = {}\n",
    "for i in cursor:\n",
    "    if i[1] in endolysins:\n",
    "        endolysin_seqs.append(i[0])\n",
    "    elif i[1] in vals:\n",
    "        val_seqs.append(i[0])\n",
    "    acc2seq[i[1]] = i[0]\n",
    "        \n",
    "### unique sequences\n",
    "unique_seq_accs = []\n",
    "unique_seqs = []\n",
    "for k, v in acc2seq.items():\n",
    "    if v not in unique_seqs:\n",
    "        unique_seqs.append(v)\n",
    "        unique_seq_accs.append(k)"
   ]
  },
  {
   "cell_type": "markdown",
   "metadata": {},
   "source": [
    "### Wrangle domains"
   ]
  },
  {
   "cell_type": "code",
   "execution_count": 5,
   "metadata": {},
   "outputs": [],
   "source": [
    "domains = pd.read_csv(\"domains/custom_domain_clusters.csv\", sep=',', index_col=\"accession\", \n",
    "                      usecols=['accession', 'abbreviation', 'class', 'sub'])"
   ]
  },
  {
   "cell_type": "code",
   "execution_count": 6,
   "metadata": {},
   "outputs": [],
   "source": [
    "cbds = []\n",
    "pgas = []\n",
    "pgaps = []\n",
    "pgps = []\n",
    "pggs = []\n",
    "pgms = []\n",
    "pgmts = []\n",
    "pglts = []\n",
    "misc = []\n",
    "sorted_doms = []\n",
    "for i in domains.index:\n",
    "    if domains.loc[i]['class'] == 'CBD' and domains.loc[i]['abbreviation'] not in sorted_doms:\n",
    "        cbds.append(domains.loc[i]['abbreviation'])\n",
    "        sorted_doms.append(domains.loc[i]['abbreviation'])\n",
    "    elif domains.loc[i]['class'] == 'EAD' and domains.loc[i]['abbreviation'] not in sorted_doms:\n",
    "        if domains.loc[i]['sub'] == 'A':\n",
    "            pgas.append(domains.loc[i]['abbreviation'])\n",
    "            sorted_doms.append(domains.loc[i]['abbreviation'])\n",
    "        elif domains.loc[i]['sub'] == 'A+P':\n",
    "            pgaps.append(domains.loc[i]['abbreviation'])\n",
    "            sorted_doms.append(domains.loc[i]['abbreviation'])\n",
    "        elif domains.loc[i]['sub'] == 'P':\n",
    "            pgps.append(domains.loc[i]['abbreviation'])\n",
    "            sorted_doms.append(domains.loc[i]['abbreviation'])\n",
    "        elif domains.loc[i]['sub'] == 'G':\n",
    "            pggs.append(domains.loc[i]['abbreviation'])\n",
    "            sorted_doms.append(domains.loc[i]['abbreviation'])\n",
    "        elif domains.loc[i]['sub'] == 'M':\n",
    "            pgms.append(domains.loc[i]['abbreviation'])\n",
    "            sorted_doms.append(domains.loc[i]['abbreviation'])\n",
    "        elif domains.loc[i]['sub'] == 'M+T':\n",
    "            pgmts.append(domains.loc[i]['abbreviation'])\n",
    "            sorted_doms.append(domains.loc[i]['abbreviation'])\n",
    "        elif domains.loc[i]['sub'] == 'T':\n",
    "            pglts.append(domains.loc[i]['abbreviation'])\n",
    "            sorted_doms.append(domains.loc[i]['abbreviation'])\n",
    "    elif domains.loc[i]['class'] == 'MISC' and domains.loc[i]['abbreviation'] not in sorted_doms:\n",
    "        misc.append(domains.loc[i]['abbreviation'])\n",
    "        sorted_doms.append(domains.loc[i]['abbreviation'])\n",
    "\n",
    "amidases = pgas + pgaps\n",
    "peptidases = pgaps + pgps \n",
    "muramidases = pgms + pgmts\n",
    "lts = pgmts + pglts \n",
    "eads = pgas + pgaps + pgps + pggs + pgms + pgmts + pglts"
   ]
  },
  {
   "cell_type": "code",
   "execution_count": 7,
   "metadata": {},
   "outputs": [],
   "source": [
    "### Load in architectures\n",
    "domains_per_entry = {}\n",
    "with open('simplified_architectures_condensed.csv', mode='r') as file:\n",
    "    reader = csv.reader(file)\n",
    "    for row in reader:\n",
    "        domains_per_entry[row[0]] = [i for idx, i in enumerate(row) if idx != 0 and i != '']"
   ]
  },
  {
   "cell_type": "markdown",
   "metadata": {},
   "source": [
    "### Wrangle bacterial hosts"
   ]
  },
  {
   "cell_type": "code",
   "execution_count": 8,
   "metadata": {},
   "outputs": [],
   "source": [
    "### get annotation\n",
    "cnx = mysql.connector.connect(user=user, password=password, database=db, unix_socket=socket)\n",
    "cursor = cnx.cursor()\n",
    "cursor.execute(\"SELECT DISTINCT lineage_phylum, lineage_class, lineage_order, lineage_family, lineage_genus FROM hosts;\")\n",
    "\n",
    "host = pd.DataFrame(index=np.arange(0, 1000), columns=[\"Phylum\", \"Class\", \"Order\", \"Family\", \"Genus\"])\n",
    "for idx, i in enumerate(cursor):\n",
    "    host.iloc[idx][\"Phylum\"] = i[0]\n",
    "    host.iloc[idx][\"Class\"] = i[1]\n",
    "    host.iloc[idx][\"Order\"] = i[2]\n",
    "    host.iloc[idx][\"Family\"] = i[3]\n",
    "    host.iloc[idx][\"Genus\"] = i[4]\n",
    "    \n",
    "host[\"Gramtype\"] = '~'\n",
    "to_remove = []\n",
    "for i in host.index:\n",
    "    if host.loc[i]['Order'] in ['Synechococcales', 'Nostocales', 'Oscillatoriales', 'Chroococcales']:\n",
    "        host.loc[i]['Class'] = 'Cyanophyceae' \n",
    "    elif host.loc[i]['Genus'] == 'Plesiomonas':\n",
    "        host.loc[i]['Family'] = 'Enterobacteriaceae'\n",
    "    elif host.loc[i]['Genus'] == 'Exiguobacterium':\n",
    "        host.loc[i]['Family'] = 'Bacillaceae'\n",
    "    elif host.iloc[i][\"Family\"] == 'Thermoanaerobacterales Family III. Incertae Sedis':\n",
    "        host.iloc[i][\"Family\"] = 'Thermoanaerobacterales 3'\n",
    "    ### remove unknowns\n",
    "    if all(host.iloc[i].isna()):\n",
    "        to_remove.append(i)\n",
    "    elif pd.isna(host.iloc[i][\"Genus\"]):\n",
    "        to_remove.append(i)\n",
    "    ### gram annotation\n",
    "    if host.loc[i][\"Phylum\"] in ['Actinobacteria', 'Firmicutes']:\n",
    "        if host.loc[i][\"Family\"] != 'Mycobacteriaceae':\n",
    "            host.loc[i][\"Gramtype\"] = '+'\n",
    "    elif host.loc[i][\"Phylum\"] in ['Proteobacteria', 'Bacteroidetes', 'Cyanobacteria', \n",
    "                                   'Spirochaetes', 'Fusobacteria', 'Deinococcus-Thermus']:\n",
    "        host.loc[i][\"Gramtype\"] = '-'\n",
    "\n",
    "host = host.fillna('Unknown')\n",
    "host = host.drop(to_remove, axis=0)\n",
    "\n",
    "### sort genera\n",
    "gpos = host[host.Gramtype == '+'].sort_values(by=['Phylum', 'Class', 'Order', 'Family'])\n",
    "gneg = host[host.Gramtype == '-'].sort_values(by=['Phylum', 'Class', 'Order', 'Family'])\n",
    "gamb = host[host.Gramtype == '~'].sort_values(by=['Phylum', 'Class', 'Order', 'Family'])\n",
    "\n",
    "sorted_genera = list(pd.concat([gpos, gamb, gneg]).Genus)"
   ]
  },
  {
   "cell_type": "code",
   "execution_count": 9,
   "metadata": {},
   "outputs": [],
   "source": [
    "### Get hosts for each entry\n",
    "host_per_entry = {}\n",
    "for i in list(domains_per_entry.keys()):\n",
    "    host_per_entry[i] = []\n",
    "    cnx = mysql.connector.connect(user=user, password=password, database=db, unix_socket=socket)\n",
    "    cursor = cnx.cursor()\n",
    "    query = \"SELECT h.lineage_genus FROM UniProt as up JOIN link_phage_host as l JOIN hosts as h WHERE up.UniProt_ID = '\" + i + \"' AND up.phages_ID = l.phages_ID AND l.hosts_ID = h.hosts_ID;\"\n",
    "    cursor.execute(query)\n",
    "    \n",
    "    tmp = []\n",
    "    for j in cursor:\n",
    "        tmp.append(j[0])\n",
    "    \n",
    "    host_per_entry[i] = [k for k in set(tmp) if k != None]\n",
    "\n",
    "#remove none values\n",
    "filtered = {k: v for k, v in host_per_entry.items() if None not in v and len(v) != 0}\n",
    "host_per_entry.clear()\n",
    "host_per_entry.update(filtered)"
   ]
  },
  {
   "cell_type": "markdown",
   "metadata": {},
   "source": [
    "## Adjacencies in short endolysin architectures"
   ]
  },
  {
   "cell_type": "code",
   "execution_count": 10,
   "metadata": {},
   "outputs": [
    {
     "name": "stdout",
     "output_type": "stream",
     "text": [
      "6904 out of 6907 unique endolysins with known architectures qualify for this analysis.\n",
      "The following architectures are thus excluded:\n",
      " [('DUF1906', 'Ami_2', 'PET_M23', 'DUF4185'), ('Transposase_InsH_N', 'DDE_Tnp_1_6', 'CHAP', 'SH3')]\n"
     ]
    }
   ],
   "source": [
    "### possible architectures in an endolysin with 3 modules\n",
    "poss_archs = [['EAD'], ['CBD']]\n",
    "poss_archs.extend(list(product(('EAD', 'CBD'), ('EAD', 'CBD'))))\n",
    "poss_archs.extend(list(product(('EAD', 'CBD'), ('EAD', 'CBD'), ('EAD', 'CBD'))))\n",
    "\n",
    "endolysin_archs = {k:v for k, v in domains_per_entry.items() if k in endolysins}\n",
    "short_endolysins = {k:v for k, v in endolysin_archs.items() if len(v) <= 3}\n",
    "long_endolysins = {k:v for k, v in endolysin_archs.items() if len(v) > 3}\n",
    "print(len(short_endolysins), \"out of\", len(endolysin_archs), \n",
    "      \"unique endolysins with known architectures qualify for this analysis.\")\n",
    "print(\"The following architectures are thus excluded:\\n\", \n",
    "      list(set([tuple(v) for k, v in long_endolysins.items()])))"
   ]
  },
  {
   "cell_type": "code",
   "execution_count": 14,
   "metadata": {},
   "outputs": [
    {
     "data": {
      "text/plain": [
       "4434"
      ]
     },
     "execution_count": 14,
     "metadata": {},
     "output_type": "execute_result"
    }
   ],
   "source": [
    "len([i for i in short_endolysins if i in unique_seq_accs])"
   ]
  },
  {
   "cell_type": "code",
   "execution_count": 18,
   "metadata": {},
   "outputs": [],
   "source": [
    "### total occurrences\n",
    "#archs = np.unique([v for v in short_endolysins.values()])\n",
    "archs = [v for v in short_endolysins.values()]\n",
    "all_endo_doms = list(chain.from_iterable(archs))\n",
    "\n",
    "mod_adj_df = pd.DataFrame(index=np.arange(56), \n",
    "                          columns=['Arch', 'Relative fraction', 'Type'])\n",
    "tmp = {k:v for k, v in short_endolysins.items() if k in host_per_entry}\n",
    "unique_seq_tmp = {k:v for k, v in tmp.items() if k in unique_seq_accs}\n",
    "#tot_archs = [v for v in unique_seq_tmp.values()]\n",
    "#tot_archs = np.unique([v for v in tmp.values()])\n",
    "tot_archs = [v for v in tmp.values()]\n",
    "\n",
    "tot_1 = [i for i in tot_archs if len(i) == 1]\n",
    "mod_adj_df.loc[0, 'Arch'] = \"EAD\"\n",
    "mod_adj_df.loc[0, 'Relative fraction'] = len([i for i in tot_1 if i[0] in eads])/len(tot_archs)\n",
    "mod_adj_df.loc[0, 'Type'] = 'Observed in all endolysins' \n",
    "mod_adj_df.loc[1, 'Arch'] = \"CBD\"\n",
    "mod_adj_df.loc[1, 'Relative fraction'] = len([i for i in tot_1 if i[0] in cbds])/len(tot_archs)\n",
    "mod_adj_df.loc[1, 'Type'] = 'Observed in all endolysins' \n",
    "\n",
    "tot_2 = [i for i in tot_archs if len(i) == 2]\n",
    "mod_adj_df.loc[2, 'Arch'] = \"EAD-EAD\"\n",
    "mod_adj_df.loc[2, 'Relative fraction'] = len([i for i in tot_2 if i[0] in eads and i[1] in eads])/len(tot_archs)\n",
    "mod_adj_df.loc[2, 'Type'] = 'Observed in all endolysins' \n",
    "mod_adj_df.loc[3, 'Arch'] = \"EAD-CBD\"\n",
    "mod_adj_df.loc[3, 'Relative fraction'] = len([i for i in tot_2 if i[0] in eads and i[1] in cbds])/len(tot_archs)\n",
    "mod_adj_df.loc[3, 'Type'] = 'Observed in all endolysins' \n",
    "mod_adj_df.loc[4, 'Arch'] = \"CBD-EAD\"\n",
    "mod_adj_df.loc[4, 'Relative fraction'] = len([i for i in tot_2 if i[0] in cbds and i[1] in eads])/len(tot_archs)\n",
    "mod_adj_df.loc[4, 'Type'] = 'Observed in all endolysins' \n",
    "mod_adj_df.loc[5, 'Arch'] = \"CBD-CBD\"\n",
    "mod_adj_df.loc[5, 'Relative fraction'] = len([i for i in tot_2 if i[0] in cbds and i[1] in cbds])/len(tot_archs)\n",
    "mod_adj_df.loc[5, 'Type'] = 'Observed in all endolysins' \n",
    "\n",
    "tot_3 = [i for i in tot_archs if len(i) == 3]\n",
    "mod_adj_df.loc[6, 'Arch'] = \"EAD-EAD-EAD\"\n",
    "mod_adj_df.loc[6, 'Relative fraction'] = len([i for i in tot_3 if i[0] in eads and i[1] in eads and i[2] in eads])/len(tot_archs)\n",
    "mod_adj_df.loc[6, 'Type'] = 'Observed in all endolysins' \n",
    "mod_adj_df.loc[7, 'Arch'] = \"EAD-EAD-CBD\"\n",
    "mod_adj_df.loc[7, 'Relative fraction'] = len([i for i in tot_3 if i[0] in eads and i[1] in eads and i[2] in cbds])/len(tot_archs)\n",
    "mod_adj_df.loc[7, 'Type'] = 'Observed in all endolysins' \n",
    "mod_adj_df.loc[8, 'Arch'] = \"EAD-CBD-CBD\"\n",
    "mod_adj_df.loc[8, 'Relative fraction'] = len([i for i in tot_3 if i[0] in eads and i[1] in cbds and i[2] in cbds])/len(tot_archs)\n",
    "mod_adj_df.loc[8, 'Type'] = 'Observed in all endolysins' \n",
    "mod_adj_df.loc[9, 'Arch'] = \"CBD-CBD-CBD\"\n",
    "mod_adj_df.loc[9, 'Relative fraction'] = len([i for i in tot_3 if i[0] in cbds and i[1] in cbds and i[2] in cbds])/len(tot_archs)\n",
    "mod_adj_df.loc[9, 'Type'] = 'Observed in all endolysins' \n",
    "mod_adj_df.loc[10, 'Arch'] = \"CBD-CBD-EAD\"\n",
    "mod_adj_df.loc[10, 'Relative fraction'] = len([i for i in tot_3 if i[0] in cbds and i[1] in cbds and i[2] in eads])/len(tot_archs)\n",
    "mod_adj_df.loc[10, 'Type'] = 'Observed in all endolysins' \n",
    "mod_adj_df.loc[11, 'Arch'] = \"CBD-EAD-EAD\"\n",
    "mod_adj_df.loc[11, 'Relative fraction'] = len([i for i in tot_3 if i[0] in cbds and i[1] in eads and i[2] in eads])/len(tot_archs)\n",
    "mod_adj_df.loc[11, 'Type'] = 'Observed in all endolysins' \n",
    "mod_adj_df.loc[12, 'Arch'] = \"EAD-CBD-EAD\"\n",
    "mod_adj_df.loc[12, 'Relative fraction'] = len([i for i in tot_3 if i[0] in eads and i[1] in cbds and i[2] in eads])/len(tot_archs)\n",
    "mod_adj_df.loc[12, 'Type'] = 'Observed in all endolysins' \n",
    "mod_adj_df.loc[13, 'Arch'] = \"CBD-EAD-CBD\"\n",
    "mod_adj_df.loc[13, 'Relative fraction'] = len([i for i in tot_3 if i[0] in cbds and i[1] in eads and i[2] in cbds])/len(tot_archs)\n",
    "mod_adj_df.loc[13, 'Type'] = 'Observed in all endolysins' "
   ]
  },
  {
   "cell_type": "code",
   "execution_count": 19,
   "metadata": {},
   "outputs": [],
   "source": [
    "# G+ occurrences\n",
    "#G_pos_archs = [v for k, v in unique_seq_tmp.items() if len(set(gpos.Genus).intersection(set(host_per_entry[k]))) > 0]\n",
    "#G_pos_archs = np.unique([v for k, v in tmp.items() if len(set(gpos.Genus).intersection(set(host_per_entry[k]))) > 0])\n",
    "G_pos_archs = [v for k, v in tmp.items() if len(set(gpos.Genus).intersection(set(host_per_entry[k]))) > 0]\n",
    "\n",
    "G_pos_1 = [i for i in G_pos_archs if len(i) == 1]\n",
    "mod_adj_df.loc[14, 'Arch'] = \"EAD\"\n",
    "mod_adj_df.loc[14, 'Relative fraction'] = len([i for i in G_pos_1 if i[0] in eads])/len(G_pos_archs)\n",
    "mod_adj_df.loc[14, 'Type'] = 'Observed in G+ targeting endolysins' \n",
    "mod_adj_df.loc[15, 'Arch'] = \"CBD\"\n",
    "mod_adj_df.loc[15, 'Relative fraction'] = len([i for i in G_pos_1 if i[0] in cbds])/len(G_pos_archs)\n",
    "mod_adj_df.loc[15, 'Type'] = 'Observed in G+ targeting endolysins' \n",
    "\n",
    "G_pos_2 = [i for i in G_pos_archs if len(i) == 2]\n",
    "mod_adj_df.loc[16, 'Arch'] = \"EAD-EAD\"\n",
    "mod_adj_df.loc[16, 'Relative fraction'] = len([i for i in G_pos_2 if i[0] in eads and i[1] in eads])/len(G_pos_archs)\n",
    "mod_adj_df.loc[16, 'Type'] = 'Observed in G+ targeting endolysins' \n",
    "mod_adj_df.loc[17, 'Arch'] = \"EAD-CBD\"\n",
    "mod_adj_df.loc[17, 'Relative fraction'] = len([i for i in G_pos_2 if i[0] in eads and i[1] in cbds])/len(G_pos_archs)\n",
    "mod_adj_df.loc[17, 'Type'] = 'Observed in G+ targeting endolysins' \n",
    "mod_adj_df.loc[18, 'Arch'] = \"CBD-EAD\"\n",
    "mod_adj_df.loc[18, 'Relative fraction'] = len([i for i in G_pos_2 if i[0] in cbds and i[1] in eads])/len(G_pos_archs)\n",
    "mod_adj_df.loc[18, 'Type'] = 'Observed in G+ targeting endolysins' \n",
    "mod_adj_df.loc[19, 'Arch'] = \"CBD-CBD\"\n",
    "mod_adj_df.loc[19, 'Relative fraction'] = len([i for i in G_pos_2 if i[0] in cbds and i[1] in cbds])/len(G_pos_archs)\n",
    "mod_adj_df.loc[19, 'Type'] = 'Observed in G+ targeting endolysins' \n",
    "\n",
    "G_pos_3 = [i for i in G_pos_archs if len(i) == 3]\n",
    "mod_adj_df.loc[20, 'Arch'] = \"EAD-EAD-EAD\"\n",
    "mod_adj_df.loc[20, 'Relative fraction'] = len([i for i in G_pos_3 if i[0] in eads and i[1] in eads and i[2] in eads])/len(G_pos_archs)\n",
    "mod_adj_df.loc[20, 'Type'] = 'Observed in G+ targeting endolysins' \n",
    "mod_adj_df.loc[21, 'Arch'] = \"EAD-EAD-CBD\"\n",
    "mod_adj_df.loc[21, 'Relative fraction'] = len([i for i in G_pos_3 if i[0] in eads and i[1] in eads and i[2] in cbds])/len(G_pos_archs)\n",
    "mod_adj_df.loc[21, 'Type'] = 'Observed in G+ targeting endolysins' \n",
    "mod_adj_df.loc[22, 'Arch'] = \"EAD-CBD-CBD\"\n",
    "mod_adj_df.loc[22, 'Relative fraction'] = len([i for i in G_pos_3 if i[0] in eads and i[1] in cbds and i[2] in cbds])/len(G_pos_archs)\n",
    "mod_adj_df.loc[22, 'Type'] = 'Observed in G+ targeting endolysins' \n",
    "mod_adj_df.loc[23, 'Arch'] = \"CBD-CBD-CBD\"\n",
    "mod_adj_df.loc[23, 'Relative fraction'] = len([i for i in G_pos_3 if i[0] in cbds and i[1] in cbds and i[2] in cbds])/len(G_pos_archs)\n",
    "mod_adj_df.loc[23, 'Type'] = 'Observed in G+ targeting endolysins' \n",
    "mod_adj_df.loc[24, 'Arch'] = \"CBD-CBD-EAD\"\n",
    "mod_adj_df.loc[24, 'Relative fraction'] = len([i for i in G_pos_3 if i[0] in cbds and i[1] in cbds and i[2] in eads])/len(G_pos_archs)\n",
    "mod_adj_df.loc[24, 'Type'] = 'Observed in G+ targeting endolysins' \n",
    "mod_adj_df.loc[25, 'Arch'] = \"CBD-EAD-EAD\"\n",
    "mod_adj_df.loc[25, 'Relative fraction'] = len([i for i in G_pos_3 if i[0] in cbds and i[1] in eads and i[2] in eads])/len(G_pos_archs)\n",
    "mod_adj_df.loc[25, 'Type'] = 'Observed in G+ targeting endolysins' \n",
    "mod_adj_df.loc[26, 'Arch'] = \"EAD-CBD-EAD\"\n",
    "mod_adj_df.loc[26, 'Relative fraction'] = len([i for i in G_pos_3 if i[0] in eads and i[1] in cbds and i[2] in eads])/len(G_pos_archs)\n",
    "mod_adj_df.loc[26, 'Type'] = 'Observed in G+ targeting endolysins' \n",
    "mod_adj_df.loc[27, 'Arch'] = \"CBD-EAD-CBD\"\n",
    "mod_adj_df.loc[27, 'Relative fraction'] = len([i for i in G_pos_3 if i[0] in cbds and i[1] in eads and i[2] in cbds])/len(G_pos_archs)\n",
    "mod_adj_df.loc[27, 'Type'] = 'Observed in G+ targeting endolysins' "
   ]
  },
  {
   "cell_type": "raw",
   "metadata": {},
   "source": [
    "cyano_archs = [v for k, v in unique_seq_tmp.items() if len(set(host[host.Phylum == 'Cyanobacteria'].Genus).intersection(set(host_per_entry[k]))) > 0]\n",
    "cyano_2 = [i for i in cyano_archs if len(i) == 2]\n",
    "len([i for i in cyano_2 if i[0] in eads and i[1] in eads])"
   ]
  },
  {
   "cell_type": "code",
   "execution_count": 20,
   "metadata": {},
   "outputs": [],
   "source": [
    "# G- occurrences\n",
    "#G_neg_archs = [v for k, v in unique_seq_tmp.items() if len(set(gneg.Genus).intersection(set(host_per_entry[k]))) > 0]\n",
    "#G_neg_archs = np.unique([v for k, v in tmp.items() if len(set(gneg.Genus).intersection(set(host_per_entry[k]))) > 0])\n",
    "G_neg_archs = [v for k, v in tmp.items() if len(set(gneg.Genus).intersection(set(host_per_entry[k]))) > 0]\n",
    "\n",
    "G_neg_1 = [i for i in G_neg_archs if len(i) == 1]\n",
    "mod_adj_df.loc[28, 'Arch'] = \"EAD\"\n",
    "mod_adj_df.loc[28, 'Relative fraction'] = len([i for i in G_neg_1 if i[0] in eads])/len(G_neg_archs)\n",
    "mod_adj_df.loc[28, 'Type'] = 'Observed in G- targeting endolysins' \n",
    "mod_adj_df.loc[29, 'Arch'] = \"CBD\"\n",
    "mod_adj_df.loc[29, 'Relative fraction'] = len([i for i in G_neg_1 if i[0] in cbds])/len(G_neg_archs)\n",
    "mod_adj_df.loc[29, 'Type'] = 'Observed in G- targeting endolysins' \n",
    "\n",
    "G_neg_2 = [i for i in G_neg_archs if len(i) == 2]\n",
    "mod_adj_df.loc[30, 'Arch'] = \"EAD-EAD\"\n",
    "mod_adj_df.loc[30, 'Relative fraction'] = len([i for i in G_neg_2 if i[0] in eads and i[1] in eads])/len(G_neg_archs)\n",
    "mod_adj_df.loc[30, 'Type'] = 'Observed in G- targeting endolysins' \n",
    "mod_adj_df.loc[31, 'Arch'] = \"EAD-CBD\"\n",
    "mod_adj_df.loc[31, 'Relative fraction'] = len([i for i in G_neg_2 if i[0] in eads and i[1] in cbds])/len(G_neg_archs)\n",
    "mod_adj_df.loc[31, 'Type'] = 'Observed in G- targeting endolysins' \n",
    "mod_adj_df.loc[32, 'Arch'] = \"CBD-EAD\"\n",
    "mod_adj_df.loc[32, 'Relative fraction'] = len([i for i in G_neg_2 if i[0] in cbds and i[1] in eads])/len(G_neg_archs)\n",
    "mod_adj_df.loc[32, 'Type'] = 'Observed in G- targeting endolysins' \n",
    "mod_adj_df.loc[33, 'Arch'] = \"CBD-CBD\"\n",
    "mod_adj_df.loc[33, 'Relative fraction'] = len([i for i in G_neg_2 if i[0] in cbds and i[1] in cbds])/len(G_neg_archs)\n",
    "mod_adj_df.loc[33, 'Type'] = 'Observed in G- targeting endolysins' \n",
    "\n",
    "G_neg_3 = [i for i in G_neg_archs if len(i) == 3]\n",
    "mod_adj_df.loc[34, 'Arch'] = \"EAD-EAD-EAD\"\n",
    "mod_adj_df.loc[34, 'Relative fraction'] = len([i for i in G_neg_3 if i[0] in eads and i[1] in eads and i[2] in eads])/len(G_neg_archs)\n",
    "mod_adj_df.loc[34, 'Type'] = 'Observed in G- targeting endolysins' \n",
    "mod_adj_df.loc[35, 'Arch'] = \"EAD-EAD-CBD\"\n",
    "mod_adj_df.loc[35, 'Relative fraction'] = len([i for i in G_neg_3 if i[0] in eads and i[1] in eads and i[2] in cbds])/len(G_neg_archs)\n",
    "mod_adj_df.loc[35, 'Type'] = 'Observed in G- targeting endolysins' \n",
    "mod_adj_df.loc[36, 'Arch'] = \"EAD-CBD-CBD\"\n",
    "mod_adj_df.loc[36, 'Relative fraction'] = len([i for i in G_neg_3 if i[0] in eads and i[1] in cbds and i[2] in cbds])/len(G_neg_archs)\n",
    "mod_adj_df.loc[36, 'Type'] = 'Observed in G- targeting endolysins' \n",
    "mod_adj_df.loc[37, 'Arch'] = \"CBD-CBD-CBD\"\n",
    "mod_adj_df.loc[37, 'Relative fraction'] = len([i for i in G_neg_3 if i[0] in cbds and i[1] in cbds and i[2] in cbds])/len(G_neg_archs)\n",
    "mod_adj_df.loc[37, 'Type'] = 'Observed in G- targeting endolysins' \n",
    "mod_adj_df.loc[38, 'Arch'] = \"CBD-CBD-EAD\"\n",
    "mod_adj_df.loc[38, 'Relative fraction'] = len([i for i in G_neg_3 if i[0] in cbds and i[1] in cbds and i[2] in eads])/len(G_neg_archs)\n",
    "mod_adj_df.loc[38, 'Type'] = 'Observed in G- targeting endolysins' \n",
    "mod_adj_df.loc[39, 'Arch'] = \"CBD-EAD-EAD\"\n",
    "mod_adj_df.loc[39, 'Relative fraction'] = len([i for i in G_neg_3 if i[0] in cbds and i[1] in eads and i[2] in eads])/len(G_neg_archs)\n",
    "mod_adj_df.loc[39, 'Type'] = 'Observed in G- targeting endolysins' \n",
    "mod_adj_df.loc[40, 'Arch'] = \"EAD-CBD-EAD\"\n",
    "mod_adj_df.loc[40, 'Relative fraction'] = len([i for i in G_neg_3 if i[0] in eads and i[1] in cbds and i[2] in eads])/len(G_neg_archs)\n",
    "mod_adj_df.loc[40, 'Type'] = 'Observed in G- targeting endolysins' \n",
    "mod_adj_df.loc[41, 'Arch'] = \"CBD-EAD-CBD\"\n",
    "mod_adj_df.loc[41, 'Relative fraction'] = len([i for i in G_neg_3 if i[0] in cbds and i[1] in eads and i[2] in cbds])/len(G_neg_archs)\n",
    "mod_adj_df.loc[41, 'Type'] = 'Observed in G- targeting endolysins' "
   ]
  },
  {
   "cell_type": "code",
   "execution_count": 21,
   "metadata": {},
   "outputs": [
    {
     "data": {
      "text/plain": [
       "15        Mycobacterium\n",
       "32      Mycobacteroides\n",
       "88    Mycolicibacterium\n",
       "Name: Genus, dtype: object"
      ]
     },
     "execution_count": 21,
     "metadata": {},
     "output_type": "execute_result"
    }
   ],
   "source": [
    "gamb.Genus"
   ]
  },
  {
   "cell_type": "code",
   "execution_count": 15,
   "metadata": {},
   "outputs": [],
   "source": [
    "# G~ occurrences\n",
    "#G_amb_archs = [v for k, v in unique_seq_tmp.items() if len(set(gamb.Genus).intersection(set(host_per_entry[k]))) > 0]\n",
    "#G_amb_archs = np.unique([v for k, v in tmp.items() if len(set(gamb.Genus).intersection(set(host_per_entry[k]))) > 0])\n",
    "G_amb_archs = [v for k, v in tmp.items() if len(set(gamb.Genus).intersection(set(host_per_entry[k]))) > 0]\n",
    "\n",
    "G_amb_1 = [i for i in G_amb_archs if len(i) == 1]\n",
    "mod_adj_df.loc[42, 'Arch'] = \"EAD\"\n",
    "mod_adj_df.loc[42, 'Relative fraction'] = len([i for i in G_amb_1 if i[0] in eads])/len(G_amb_archs)\n",
    "mod_adj_df.loc[42, 'Type'] = 'Observed in Mycobacterium targeting endolysins' \n",
    "mod_adj_df.loc[43, 'Arch'] = \"CBD\"\n",
    "mod_adj_df.loc[43, 'Relative fraction'] = len([i for i in G_amb_1 if i[0] in cbds])/len(G_amb_archs)\n",
    "mod_adj_df.loc[43, 'Type'] = 'Observed in Mycobacterium targeting endolysins' \n",
    "\n",
    "G_amb_2 = [i for i in G_amb_archs if len(i) == 2]\n",
    "mod_adj_df.loc[44, 'Arch'] = \"EAD-EAD\"\n",
    "mod_adj_df.loc[44, 'Relative fraction'] = len([i for i in G_amb_2 if i[0] in eads and i[1] in eads])/len(G_amb_archs)\n",
    "mod_adj_df.loc[44, 'Type'] = 'Observed in Mycobacterium targeting endolysins' \n",
    "mod_adj_df.loc[45, 'Arch'] = \"EAD-CBD\"\n",
    "mod_adj_df.loc[45, 'Relative fraction'] = len([i for i in G_amb_2 if i[0] in eads and i[1] in cbds])/len(G_amb_archs)\n",
    "mod_adj_df.loc[45, 'Type'] = 'Observed in Mycobacterium targeting endolysins' \n",
    "mod_adj_df.loc[46, 'Arch'] = \"CBD-EAD\"\n",
    "mod_adj_df.loc[46, 'Relative fraction'] = len([i for i in G_amb_2 if i[0] in cbds and i[1] in eads])/len(G_amb_archs)\n",
    "mod_adj_df.loc[46, 'Type'] = 'Observed in Mycobacterium targeting endolysins' \n",
    "mod_adj_df.loc[47, 'Arch'] = \"CBD-CBD\"\n",
    "mod_adj_df.loc[47, 'Relative fraction'] = len([i for i in G_amb_2 if i[0] in cbds and i[1] in cbds])/len(G_amb_archs)\n",
    "mod_adj_df.loc[47, 'Type'] = 'Observed in Mycobacterium targeting endolysins' \n",
    "\n",
    "G_amb_3 = [i for i in G_amb_archs if len(i) == 3]\n",
    "mod_adj_df.loc[48, 'Arch'] = \"EAD-EAD-EAD\"\n",
    "mod_adj_df.loc[48, 'Relative fraction'] = len([i for i in G_amb_3 if i[0] in eads and i[1] in eads and i[2] in eads])/len(G_amb_archs)\n",
    "mod_adj_df.loc[48, 'Type'] = 'Observed in Mycobacterium targeting endolysins' \n",
    "mod_adj_df.loc[49, 'Arch'] = \"EAD-EAD-CBD\"\n",
    "mod_adj_df.loc[49, 'Relative fraction'] = len([i for i in G_amb_3 if i[0] in eads and i[1] in eads and i[2] in cbds])/len(G_amb_archs)\n",
    "mod_adj_df.loc[49, 'Type'] = 'Observed in Mycobacterium targeting endolysins' \n",
    "mod_adj_df.loc[50, 'Arch'] = \"EAD-CBD-CBD\"\n",
    "mod_adj_df.loc[50, 'Relative fraction'] = len([i for i in G_amb_3 if i[0] in eads and i[1] in cbds and i[2] in cbds])/len(G_amb_archs)\n",
    "mod_adj_df.loc[50, 'Type'] = 'Observed in Mycobacterium targeting endolysins' \n",
    "mod_adj_df.loc[51, 'Arch'] = \"CBD-CBD-CBD\"\n",
    "mod_adj_df.loc[51, 'Relative fraction'] = len([i for i in G_amb_3 if i[0] in cbds and i[1] in cbds and i[2] in cbds])/len(G_amb_archs)\n",
    "mod_adj_df.loc[51, 'Type'] = 'Observed in Mycobacterium targeting endolysins' \n",
    "mod_adj_df.loc[52, 'Arch'] = \"CBD-CBD-EAD\"\n",
    "mod_adj_df.loc[52, 'Relative fraction'] = len([i for i in G_amb_3 if i[0] in cbds and i[1] in cbds and i[2] in eads])/len(G_amb_archs)\n",
    "mod_adj_df.loc[52, 'Type'] = 'Observed in Mycobacterium targeting endolysins' \n",
    "mod_adj_df.loc[53, 'Arch'] = \"CBD-EAD-EAD\"\n",
    "mod_adj_df.loc[53, 'Relative fraction'] = len([i for i in G_amb_3 if i[0] in cbds and i[1] in eads and i[2] in eads])/len(G_amb_archs)\n",
    "mod_adj_df.loc[53, 'Type'] = 'Observed in Mycobacterium targeting endolysins' \n",
    "mod_adj_df.loc[54, 'Arch'] = \"EAD-CBD-EAD\"\n",
    "mod_adj_df.loc[54, 'Relative fraction'] = len([i for i in G_amb_3 if i[0] in eads and i[1] in cbds and i[2] in eads])/len(G_amb_archs)\n",
    "mod_adj_df.loc[54, 'Type'] = 'Observed in Mycobacterium targeting endolysins' \n",
    "mod_adj_df.loc[55, 'Arch'] = \"CBD-EAD-CBD\"\n",
    "mod_adj_df.loc[55, 'Relative fraction'] = len([i for i in G_amb_3 if i[0] in cbds and i[1] in eads and i[2] in cbds])/len(G_amb_archs)\n",
    "mod_adj_df.loc[55, 'Type'] = 'Observed in Mycobacterium targeting endolysins' "
   ]
  },
  {
   "cell_type": "code",
   "execution_count": 16,
   "metadata": {
    "scrolled": false
   },
   "outputs": [
    {
     "data": {
      "image/png": "[encoded data removed]",
      "text/plain": [
       "<Figure size 720x576 with 1 Axes>"
      ]
     },
     "metadata": {
      "needs_background": "light"
     },
     "output_type": "display_data"
    }
   ],
   "source": [
    "plt.figure(figsize=(10,8))\n",
    "colors = [\"#BF211E\", \"#008EAA\", \"#FF9402\", \"#018E42\", \"#00272B\"]\n",
    "sb.set_palette(sb.color_palette(colors))\n",
    "sb.set_style(\"whitegrid\")\n",
    "sb.set_context(\"paper\", font_scale=1.5)\n",
    "g = sb.barplot(x=\"Arch\", y = \"Relative fraction\", hue = \"Type\", data=mod_adj_df)\n",
    "#g.legend_.remove()\n",
    "plt.xlabel('')\n",
    "plt.ylim(0, 0.89)\n",
    "g.set_xticklabels(g.get_xticklabels(), rotation=90)\n",
    "plt.savefig('barplot_all_entries.svg', format='svg')"
   ]
  },
  {
   "cell_type": "markdown",
   "metadata": {},
   "source": [
    "### Examination of unannotated space"
   ]
  },
  {
   "cell_type": "code",
   "execution_count": 34,
   "metadata": {},
   "outputs": [
    {
     "data": {
      "text/plain": [
       "(0, 450)"
      ]
     },
     "execution_count": 34,
     "metadata": {},
     "output_type": "execute_result"
    },
    {
     "data": {
      "image/png": "[encoded data removed]",
      "text/plain": [
       "<Figure size 432x288 with 1 Axes>"
      ]
     },
     "metadata": {
      "needs_background": "light"
     },
     "output_type": "display_data"
    }
   ],
   "source": [
    "sb.distplot([acc2longest_unannot[i] for i in acc2longest_unannot if i in endolysins])\n",
    "plt.xlim(0, 450)"
   ]
  },
  {
   "cell_type": "code",
   "execution_count": 39,
   "metadata": {},
   "outputs": [
    {
     "data": {
      "text/plain": [
       "'A0A142KA99'"
      ]
     },
     "execution_count": 39,
     "metadata": {},
     "output_type": "execute_result"
    }
   ],
   "source": [
    "#np.argmax([acc2longest_unannot[i] for i in acc2longest_unannot if i in endolysins])\n",
    "[i for i in acc2longest_unannot if i in endolysins][1460]"
   ]
  },
  {
   "cell_type": "code",
   "execution_count": 28,
   "metadata": {},
   "outputs": [],
   "source": [
    "### wrangle data into shape\n",
    "acc2annlen = {}\n",
    "acc2startstop = {}\n",
    "acc2longest_unannot = {}\n",
    "with open('simplified_architectures_startstop.csv', mode='r') as file:\n",
    "    reader = csv.reader(file)\n",
    "    for row in reader:\n",
    "        if len(row) == 2:\n",
    "            splitted = re.split('\\(|-|\\)', row[1])\n",
    "            start = int(splitted[1])\n",
    "            stop = int(splitted[2])\n",
    "            l = stop - start\n",
    "            acc2startstop[row[0]] = (start, stop)\n",
    "            acc2annlen[row[0]] = l\n",
    "            acc2longest_unannot[row[0]] = max(start, len(acc2seq[row[0]])-stop)\n",
    "\n",
    "G_pos_archs = {k:v for k, v in unique_seq_tmp.items() if len(set(gpos.Genus).intersection(set(host_per_entry[k]))) > 0}\n",
    "G_neg_archs = {k:v for k, v in unique_seq_tmp.items() if len(set(gneg.Genus).intersection(set(host_per_entry[k]))) > 0}\n",
    "G_amb_archs = {k:v for k, v in unique_seq_tmp.items() if len(set(gamb.Genus).intersection(set(host_per_entry[k]))) > 0}\n",
    "\n",
    "G_pos_ead_seq_lens = {k:len(acc2seq[k]) for k,v in G_pos_archs.items() if len(v) == 1 and v[0] in eads}\n",
    "G_pos_ead_ann_lens = {k:acc2annlen[k] for k,v in G_pos_archs.items() if len(v) == 1 and v[0] in eads}\n",
    "G_neg_ead_seq_lens = {k:len(acc2seq[k]) for k,v in G_neg_archs.items() if len(v) == 1 and v[0] in eads}\n",
    "G_neg_ead_ann_lens = {k:acc2annlen[k] for k,v in G_neg_archs.items() if len(v) == 1 and v[0] in eads}\n",
    "G_amb_ead_seq_lens = {k:len(acc2seq[k]) for k,v in G_amb_archs.items() if len(v) == 1 and v[0] in eads}\n",
    "G_amb_ead_ann_lens = {k:acc2annlen[k] for k,v in G_amb_archs.items() if len(v) == 1 and v[0] in eads}\n",
    "\n",
    "gpos_acc_lens_df = pd.DataFrame(index=set(G_pos_ead_seq_lens.keys()), \n",
    "                           columns=['Total length', 'Annotated length'])\n",
    "for i in gpos_acc_lens_df.index:   \n",
    "    if i in G_pos_ead_seq_lens:\n",
    "        gpos_acc_lens_df.loc[i, 'Total length'] = G_pos_ead_seq_lens[i]\n",
    "        gpos_acc_lens_df.loc[i, 'Annotated length'] = G_pos_ead_ann_lens[i]\n",
    "        \n",
    "gneg_acc_lens_df = pd.DataFrame(index=set(G_neg_ead_seq_lens.keys()), \n",
    "                           columns=['Total length', 'Annotated length'])\n",
    "for i in gneg_acc_lens_df.index:   \n",
    "    if i in G_neg_ead_seq_lens:\n",
    "        gneg_acc_lens_df.loc[i, 'Total length'] = G_neg_ead_seq_lens[i]\n",
    "        gneg_acc_lens_df.loc[i, 'Annotated length'] = G_neg_ead_ann_lens[i]\n",
    "        \n",
    "gamb_acc_lens_df = pd.DataFrame(index=set(G_amb_ead_seq_lens.keys()), \n",
    "                           columns=['Total length', 'Annotated length'])\n",
    "for i in gamb_acc_lens_df.index:   \n",
    "    if i in G_amb_ead_seq_lens:\n",
    "        gamb_acc_lens_df.loc[i, 'Total length'] = G_amb_ead_seq_lens[i]\n",
    "        gamb_acc_lens_df.loc[i, 'Annotated length'] = G_amb_ead_ann_lens[i]"
   ]
  },
  {
   "cell_type": "code",
   "execution_count": 18,
   "metadata": {},
   "outputs": [],
   "source": [
    "G_pos_ann_sizes = {}\n",
    "for length in np.arange(1, 570):\n",
    "    tmp = [gpos_acc_lens_df.loc[i, 'Annotated length'] for i in gpos_acc_lens_df.index if gpos_acc_lens_df.loc[i, 'Total length'] == length]\n",
    "    for j in set(tmp):\n",
    "        G_pos_ann_sizes[(length, j)] = 0\n",
    "    for j in tmp:\n",
    "        G_pos_ann_sizes[(length, j)] += 1\n",
    "        \n",
    "G_pos_ann_sizes_df = pd.DataFrame(index=np.arange(len(G_pos_ann_sizes)), columns=['Total', 'Annotated', 'Number'])\n",
    "idx = 0\n",
    "for k, v in G_pos_ann_sizes.items():\n",
    "    G_pos_ann_sizes_df.loc[idx, 'Total'] = k[0]\n",
    "    G_pos_ann_sizes_df.loc[idx, 'Annotated'] = k[1]\n",
    "    G_pos_ann_sizes_df.loc[idx, 'Number'] = v\n",
    "    idx += 1"
   ]
  },
  {
   "cell_type": "code",
   "execution_count": 19,
   "metadata": {},
   "outputs": [],
   "source": [
    "G_neg_ann_sizes = {}\n",
    "for length in np.arange(1, 400):\n",
    "    tmp = [gneg_acc_lens_df.loc[i, 'Annotated length'] for i in gneg_acc_lens_df.index if gneg_acc_lens_df.loc[i, 'Total length'] == length]\n",
    "    for j in set(tmp):\n",
    "        G_neg_ann_sizes[(length, j)] = 0\n",
    "    for j in tmp:\n",
    "        G_neg_ann_sizes[(length, j)] += 1\n",
    "        \n",
    "G_neg_ann_sizes_df = pd.DataFrame(index=np.arange(len(G_neg_ann_sizes)), columns=['Total', 'Annotated', 'Number'])\n",
    "idx = 0\n",
    "for k, v in G_neg_ann_sizes.items():\n",
    "    G_neg_ann_sizes_df.loc[idx, 'Total'] = k[0]\n",
    "    G_neg_ann_sizes_df.loc[idx, 'Annotated'] = k[1]\n",
    "    G_neg_ann_sizes_df.loc[idx, 'Number'] = v\n",
    "    idx += 1"
   ]
  },
  {
   "cell_type": "code",
   "execution_count": 20,
   "metadata": {},
   "outputs": [],
   "source": [
    "G_amb_ann_sizes = {}\n",
    "for length in np.arange(1, 580):\n",
    "    tmp = [gamb_acc_lens_df.loc[i, 'Annotated length'] for i in gamb_acc_lens_df.index if gamb_acc_lens_df.loc[i, 'Total length'] == length]\n",
    "    for j in set(tmp):\n",
    "        G_amb_ann_sizes[(length, j)] = 0\n",
    "    for j in tmp:\n",
    "        G_amb_ann_sizes[(length, j)] += 1\n",
    "        \n",
    "G_amb_ann_sizes_df = pd.DataFrame(index=np.arange(len(G_amb_ann_sizes)), columns=['Total', 'Annotated', 'Number'])\n",
    "idx = 0\n",
    "for k, v in G_amb_ann_sizes.items():\n",
    "    G_amb_ann_sizes_df.loc[idx, 'Total'] = k[0]\n",
    "    G_amb_ann_sizes_df.loc[idx, 'Annotated'] = k[1]\n",
    "    G_amb_ann_sizes_df.loc[idx, 'Number'] = v\n",
    "    idx += 1"
   ]
  },
  {
   "cell_type": "code",
   "execution_count": 21,
   "metadata": {},
   "outputs": [],
   "source": [
    "G_pos_ann_sizes_df['Gram-type'] = 'Positive'\n",
    "G_neg_ann_sizes_df['Gram-type'] = 'Negative'\n",
    "G_amb_ann_sizes_df['Gram-type'] = 'Mycobacteria'\n",
    "ann_sizes_df = pd.concat([G_pos_ann_sizes_df, G_neg_ann_sizes_df, G_amb_ann_sizes_df])\n",
    "#ann_sizes_df"
   ]
  },
  {
   "cell_type": "code",
   "execution_count": 30,
   "metadata": {},
   "outputs": [
    {
     "data": {
      "image/png": "[encoded data removed]",
      "text/plain": [
       "<Figure size 504x360 with 1 Axes>"
      ]
     },
     "metadata": {},
     "output_type": "display_data"
    }
   ],
   "source": [
    "g = sb.relplot(x=\"Total\", y=\"Annotated\", size=\"Number\", hue = 'Gram-type', style = 'Gram-type',\n",
    "               data=ann_sizes_df, legend=None)\n",
    "g.fig.set_size_inches(7,5)\n",
    "\n",
    "#sb.set_style(\"whitegrid\")\n",
    "plt.xlabel('Total sequence length', fontsize=12)\n",
    "plt.ylabel('Length of annotated EAD', fontsize=12)\n",
    "plt.plot([0, 570], [0, 570], linestyle='-.', color='gray', linewidth=1)\n",
    "plt.xlim(0, 585)\n",
    "plt.ylim(0, 585)\n",
    "colors = [\"#008EAA\", \"#FF9402\", \"#018E42\"]\n",
    "sb.set_palette(sb.color_palette(colors))\n",
    "plt.savefig('barplot_ead_onlies_nogrid.svg', format='svg')"
   ]
  },
  {
   "cell_type": "code",
   "execution_count": 21,
   "metadata": {},
   "outputs": [
    {
     "name": "stdout",
     "output_type": "stream",
     "text": [
      "Out of 2816 supposed globular endolysins, 1569 have substantially large unannotated subsequence(s) to harbor an unannotated/unknown domain.\n",
      "1314 have such subsequences C-terminally and 737 have such N-terminally.\n"
     ]
    }
   ],
   "source": [
    "### estimate falsely identified 'globular' proteins\n",
    "reported_globulars = 0\n",
    "likely_false_globulars = 0\n",
    "false_Cterm = 0\n",
    "false_Nterm = 0\n",
    "for i in acc2startstop:\n",
    "    if i in unique_seq_accs and i in endolysins:\n",
    "        reported_globulars += 1\n",
    "        crit = 0\n",
    "        if acc2startstop[i][0] > 40:\n",
    "            likely_false_globulars += 1\n",
    "            false_Nterm += 1\n",
    "            crit = 1\n",
    "    \n",
    "        if len(acc2seq[i]) - acc2startstop[i][1] > 40:\n",
    "            false_Cterm += 1\n",
    "            if crit == 0:\n",
    "                likely_false_globulars += 1\n",
    "print('Out of', reported_globulars, 'supposed globular endolysins,', likely_false_globulars, \n",
    "      'have substantially large unannotated subsequence(s) to harbor an unannotated/unknown domain.')\n",
    "print(false_Cterm, 'have such subsequences C-terminally and', false_Nterm, 'have such N-terminally.')"
   ]
  },
  {
   "cell_type": "markdown",
   "metadata": {},
   "source": [
    "## Adjacency matrix for chord plots"
   ]
  },
  {
   "cell_type": "code",
   "execution_count": 27,
   "metadata": {},
   "outputs": [],
   "source": [
    "### USING NON-CONDENSED ARCHS\n",
    "### Load in architectures\n",
    "domains_per_entry = {}\n",
    "with open('simplified_architectures.csv', mode='r') as file:\n",
    "    reader = csv.reader(file)\n",
    "    for row in reader:\n",
    "        domains_per_entry[row[0]] = [i for idx, i in enumerate(row) if idx != 0 and i != '']\n",
    "endolysin_archs = {k:v for k, v in domains_per_entry.items() if k in endolysins}\n",
    "\n",
    "### ENDOLYSINS\n",
    "sorted_endo_doms = [i for i in sorted_doms if i in set(chain.from_iterable(endolysin_archs.values()))]\n",
    "emp_ab_endo_adjmat = np.zeros((len(sorted_endo_doms), len(sorted_endo_doms)))\n",
    "for i in endolysin_archs:\n",
    "    for jdx in range(len(endolysin_archs[i])-1):\n",
    "        emp_ab_endo_adjmat[sorted_endo_doms.index(endolysin_archs[i][jdx]), sorted_endo_doms.index(endolysin_archs[i][jdx+1])] += 1\n",
    "\n",
    "emp_ab_endo_adjmat_df = pd.DataFrame(emp_ab_endo_adjmat, columns=sorted_endo_doms)\n",
    "emp_ab_endo_adjmat_df.to_csv(\"empirical_adjmat_endolysin_abundance.csv\")"
   ]
  },
  {
   "cell_type": "code",
   "execution_count": 59,
   "metadata": {},
   "outputs": [
    {
     "name": "stdout",
     "output_type": "stream",
     "text": [
      "(array(['', 'PG_3'], dtype='<U4'), array([ 13, 216]))\n",
      "0.9432314410480349\n"
     ]
    }
   ],
   "source": [
    "### GH108-PG3\n",
    "nextto = []\n",
    "for i in endolysin_archs:\n",
    "    #crit = 0\n",
    "    if len(endolysin_archs[i]) == 1 and endolysin_archs[i][0] == 'GH108':\n",
    "        nextto.append('')\n",
    "    for j in range(len(endolysin_archs[i])-1):\n",
    "        if endolysin_archs[i][j] == 'GH108':\n",
    "            #if crit == 0:\n",
    "            nextto.append(endolysin_archs[i][j+1])\n",
    "                #crit = 1\n",
    "print(np.unique(nextto, return_counts=True))\n",
    "print(216/229)"
   ]
  },
  {
   "cell_type": "code",
   "execution_count": 61,
   "metadata": {},
   "outputs": [
    {
     "name": "stdout",
     "output_type": "stream",
     "text": [
      "(array(['Ami_2', 'Ami_5', 'CHAP', 'CW_1', 'GH25'], dtype='<U5'), array([103,   4,   7, 606,  10]))\n",
      "0.8301369863013699\n",
      "0.1410958904109589\n"
     ]
    }
   ],
   "source": [
    "### PET_M23-Ami_2\n",
    "nextto = []\n",
    "for i in endolysin_archs:\n",
    "    #crit = 0\n",
    "    if len(endolysin_archs[i]) == 1 and endolysin_archs[i][0] == 'CW_1':\n",
    "        nextto.append('')\n",
    "    for j in range(1, len(endolysin_archs[i])):\n",
    "        if endolysin_archs[i][j] == 'CW_1':\n",
    "            #if crit == 0:\n",
    "            nextto.append(endolysin_archs[i][j-1])\n",
    "                #crit = 1\n",
    "a = np.unique(nextto, return_counts=True)\n",
    "print(a)\n",
    "print(a[1][3]/sum(a[1]))\n",
    "print(a[1][0]/sum(a[1]))"
   ]
  },
  {
   "cell_type": "code",
   "execution_count": 44,
   "metadata": {},
   "outputs": [
    {
     "name": "stdout",
     "output_type": "stream",
     "text": [
      "(array(['CW_1', 'CW_7', 'LysM', 'PG_1', 'SH3'], dtype='<U4'), array([  7,   1,   1,   7, 100]))\n"
     ]
    }
   ],
   "source": [
    "### amidases\n",
    "nextto = []\n",
    "for i in endolysin_archs:\n",
    "    for j in range(len(endolysin_archs[i])-1):\n",
    "        if endolysin_archs[i][j] in amidases:\n",
    "            if endolysin_archs[i][j+1] in cbds:\n",
    "                nextto.append(domains_per_entry[i][j+1])\n",
    "print(np.unique(nextto, return_counts=True))"
   ]
  },
  {
   "cell_type": "code",
   "execution_count": 65,
   "metadata": {},
   "outputs": [
    {
     "name": "stdout",
     "output_type": "stream",
     "text": [
      "0.05805704357897785\n",
      "401\n",
      "401\n",
      "0\n"
     ]
    }
   ],
   "source": [
    "c = 0\n",
    "cbd_rep = 0\n",
    "ead_rep = 0\n",
    "for i in endolysin_archs:\n",
    "    crit = 0\n",
    "    for j in range(len(endolysin_archs[i])-1):\n",
    "        if endolysin_archs[i][j] == endolysin_archs[i][j+1]:\n",
    "            if crit == 0:\n",
    "                c += 1\n",
    "                crit = 1\n",
    "                if endolysin_archs[i][j] in cbds:\n",
    "                    cbd_rep += 1\n",
    "                elif endolysin_archs[i][j] in eads:\n",
    "                    ead_rep += 1\n",
    "print(c/len(endolysin_archs))\n",
    "print(c)\n",
    "print(cbd_rep)\n",
    "print(ead_rep)"
   ]
  },
  {
   "cell_type": "code",
   "execution_count": 53,
   "metadata": {},
   "outputs": [
    {
     "name": "stdout",
     "output_type": "stream",
     "text": [
      "Ami_2 : 33.64485981308411 %\n",
      "Ami_3 : 4.361370716510903 %\n",
      "CW_1 : 2.1806853582554515 %\n",
      "CW_7 : 0.3115264797507788 %\n",
      "GH25 : 19.314641744548286 %\n",
      "GLUCO : 6.5420560747663545 %\n",
      "LysM : 0.3115264797507788 %\n",
      "PG_1 : 2.1806853582554515 %\n",
      "SH3 : 31.15264797507788 %\n"
     ]
    }
   ],
   "source": [
    "### CHAP\n",
    "nextto = []\n",
    "for i in endolysin_archs:\n",
    "    for j in range(len(endolysin_archs[i])-1):\n",
    "        if endolysin_archs[i][j] == 'CHAP':\n",
    "            nextto.append(endolysin_archs[i][j+1])\n",
    "a = np.unique(nextto, return_counts=True)\n",
    "print(a[0][0], \":\", a[1][0]/sum(a[1]) *100, \"%\")\n",
    "print(a[0][1], \":\", a[1][1]/sum(a[1]) *100, \"%\")\n",
    "print(a[0][2], \":\", a[1][2]/sum(a[1]) *100, \"%\")\n",
    "print(a[0][3], \":\", a[1][3]/sum(a[1]) *100, \"%\")\n",
    "print(a[0][4], \":\", a[1][4]/sum(a[1]) *100, \"%\")\n",
    "print(a[0][5], \":\", a[1][5]/sum(a[1]) *100, \"%\")\n",
    "print(a[0][6], \":\", a[1][6]/sum(a[1]) *100, \"%\")\n",
    "print(a[0][7], \":\", a[1][7]/sum(a[1]) *100, \"%\")\n",
    "print(a[0][8], \":\", a[1][8]/sum(a[1]) *100, \"%\")"
   ]
  },
  {
   "cell_type": "code",
   "execution_count": null,
   "metadata": {},
   "outputs": [],
   "source": [
    "c = 0\n",
    "for i in endolysin_archs:\n",
    "    if set(['CHAP', 'SH3']).issubset(set(endolysin_archs[i])):\n",
    "        c += 1\n",
    "print(c/len(endolysin_archs))"
   ]
  }
 ],
 "metadata": {
  "kernelspec": {
   "display_name": "Python 3",
   "language": "python",
   "name": "python3"
  },
  "language_info": {
   "codemirror_mode": {
    "name": "ipython",
    "version": 3
   },
   "file_extension": ".py",
   "mimetype": "text/x-python",
   "name": "python",
   "nbconvert_exporter": "python",
   "pygments_lexer": "ipython3",
   "version": "3.7.4"
  }
 },
 "nbformat": 4,
 "nbformat_minor": 2
}
