{
 "cells": [
  {
   "cell_type": "code",
   "execution_count": 1,
   "metadata": {},
   "outputs": [
    {
     "name": "stderr",
     "output_type": "stream",
     "text": [
      "/Users/stefftaelman/anaconda3/lib/python3.7/site-packages/sklearn/externals/six.py:31: DeprecationWarning: The module is deprecated in version 0.21 and will be removed in version 0.23 since we've dropped support for Python 2.7. Please rely on the official version of six (https://pypi.org/project/six/).\n",
      "  \"(https://pypi.org/project/six/).\", DeprecationWarning)\n"
     ]
    }
   ],
   "source": [
    "import csv\n",
    "from ete3 import add_face_to_node, NodeStyle, Tree, TreeStyle, TextFace\n",
    "from itertools import chain, combinations\n",
    "import matplotlib.pyplot as plt\n",
    "import mysql.connector\n",
    "import numpy as np\n",
    "import pandas as pd\n",
    "import seaborn as sb\n",
    "from sklearn.preprocessing import LabelEncoder\n",
    "from skrules import SkopeRules\n",
    "\n",
    "user = 'xxxx' # fill in MySQL user\n",
    "password = 'xxxx' # fill in MySQL pw\n",
    "db = 'xxxx' # fill in MySQL database name\n",
    "socket = '/x/x/x/x.sock' # fill in MySQL unix socket"
   ]
  },
  {
   "cell_type": "markdown",
   "metadata": {},
   "source": [
    "# Data"
   ]
  },
  {
   "cell_type": "markdown",
   "metadata": {},
   "source": [
    "## Accession wrangling"
   ]
  },
  {
   "cell_type": "code",
   "execution_count": 2,
   "metadata": {},
   "outputs": [],
   "source": [
    "cnx = mysql.connector.connect(user=user, password=password, database=db, unix_socket=socket)\n",
    "cursor = cnx.cursor()\n",
    "cursor.execute(\"SELECT DISTINCT(UniProt_ID), type, type_evidence, type_probability FROM UniProt;\")\n",
    "\n",
    "up_acc = []\n",
    "types = []\n",
    "type_evidence = []\n",
    "type_probability = []\n",
    "for i in cursor:\n",
    "    up_acc.append(i[0])\n",
    "    types.append(i[1])\n",
    "    type_evidence.append(i[2])\n",
    "    type_probability.append(i[3])\n",
    "tmp = {'type' : types, 'type_evidence' : type_evidence, 'type_probability' : type_probability}\n",
    "main_table = pd.DataFrame(tmp, index=up_acc)\n",
    "\n",
    "### set confidence level threshold for protein typing\n",
    "endolysins = [i for i in main_table.index if main_table.loc[i, 'type'] == 'endolysin' and main_table.loc[i, 'type_probability'] >= 75]\n",
    "vals = [i for i in main_table.index if main_table.loc[i, 'type'] == 'VAL' and main_table.loc[i, 'type_probability'] >= 75]\n",
    "unclass = [i for i in main_table.index if i not in endolysins and i not in vals]"
   ]
  },
  {
   "cell_type": "markdown",
   "metadata": {},
   "source": [
    "## Host wrangling"
   ]
  },
  {
   "cell_type": "code",
   "execution_count": 3,
   "metadata": {},
   "outputs": [],
   "source": [
    "host = pd.DataFrame(index=np.arange(0, 10000), columns=['Accession', 'Phylum', 'Class', 'Order', 'Family', 'Genus', 'Species'])\n",
    "cnx = mysql.connector.connect(user=user, password=password, database=db, unix_socket=socket)\n",
    "idx = 0\n",
    "cursor = cnx.cursor()\n",
    "cursor.execute(\"SELECT up.UniProt_ID, h.lineage_phylum, h.lineage_class, h.lineage_order, h.lineage_family, h.lineage_genus, h.lineage_species FROM UniProt as up JOIN link_phage_host as l JOIN hosts as h WHERE up.phages_ID = l.phages_ID AND l.hosts_ID = h.hosts_ID;\")\n",
    "\n",
    "for i in cursor:\n",
    "    if i[0] in endolysins:\n",
    "        host.iloc[idx]['Accession'] = i[0]\n",
    "        host.iloc[idx]['Phylum'] = i[1]\n",
    "        host.iloc[idx]['Class'] = i[2]\n",
    "        host.iloc[idx]['Order'] = i[3]\n",
    "        host.iloc[idx]['Family'] = i[4]\n",
    "        host.iloc[idx]['Genus'] = i[5]\n",
    "        host.iloc[idx]['Species'] = i[6]\n",
    "        idx += 1\n",
    "\n",
    "### Fixing ambiguity in nomenclature\n",
    "to_remove = []\n",
    "host.Phylum = host.Phylum.replace('Actinobacteria', 'Actinobacteria_ph')\n",
    "for i in host.index:\n",
    "    if host.loc[i]['Order'] in ['Synechococcales', 'Nostocales', 'Oscillatoriales', 'Chroococcales']:\n",
    "        host.loc[i]['Class'] = 'Cyanophyceae' \n",
    "    elif host.loc[i]['Genus'] == 'Plesiomonas':\n",
    "        host.loc[i]['Family'] = 'Enterobacteriaceae'\n",
    "    elif host.loc[i]['Genus'] == 'Exiguobacterium':\n",
    "        host.loc[i]['Family'] = 'Bacillaceae'\n",
    "    elif host.loc[i][\"Family\"] == 'Thermoanaerobacterales Family III. Incertae Sedis':\n",
    "        host.loc[i][\"Family\"] = 'Thermoanaerobacterales 3'\n",
    "    ### remove unknowns\n",
    "    if all(host.loc[i].isna()):\n",
    "        to_remove.append(i)\n",
    "    elif pd.isna(host.loc[i][\"Genus\"]):\n",
    "        to_remove.append(i) \n",
    "    elif pd.isna(host.loc[i][\"Species\"]):\n",
    "        to_remove.append(i)\n",
    "        \n",
    "host = host.fillna('Unknown')\n",
    "host = host.drop(to_remove, axis=0)"
   ]
  },
  {
   "cell_type": "markdown",
   "metadata": {},
   "source": [
    "# Feature engineering"
   ]
  },
  {
   "cell_type": "code",
   "execution_count": 4,
   "metadata": {},
   "outputs": [],
   "source": [
    "### Load in architectures\n",
    "acc2doms = {}\n",
    "with open('simplified_architectures.csv', mode='r') as file:\n",
    "    reader = csv.reader(file)\n",
    "    for row in reader:\n",
    "        acc2doms[row[0]] = [i for idx, i in enumerate(row) if idx != 0 and i != '']"
   ]
  },
  {
   "cell_type": "code",
   "execution_count": 5,
   "metadata": {},
   "outputs": [],
   "source": [
    "domains = list(set(list(chain.from_iterable(acc2doms.values()))))\n",
    "features = pd.DataFrame(0, index=np.arange(0, 10000), columns=domains)\n",
    "to_remove_from_host = []\n",
    "for i in list(host.index):\n",
    "    acc = host.loc[i]['Accession']\n",
    "    if acc in acc2doms:\n",
    "        for j in acc2doms[acc]:\n",
    "            features.loc[i][j] += 1\n",
    "        if len(acc2doms[acc]) > 1:\n",
    "            for jdx in range(len(acc2doms[acc])-1): # add doubles\n",
    "                col_name = str(acc2doms[acc][jdx]) + '_and_' + str(acc2doms[acc][jdx+1])\n",
    "                features[col_name] = 0\n",
    "                features.loc[i][col_name] += 1\n",
    "        if len(acc2doms[acc]) > 2:\n",
    "            for jdx in range(len(acc2doms[acc])-2): # add triples\n",
    "                col_name = str(acc2doms[acc][jdx]) + '_and_' + str(acc2doms[acc][jdx+1]) + '_and_' + str(acc2doms[acc][jdx+2])\n",
    "                features[col_name] = 0\n",
    "                features.loc[i][col_name] += 1\n",
    "    else:\n",
    "        to_remove_from_host.append(i)"
   ]
  },
  {
   "cell_type": "code",
   "execution_count": 6,
   "metadata": {},
   "outputs": [
    {
     "name": "stdout",
     "output_type": "stream",
     "text": [
      "6768 6768\n"
     ]
    }
   ],
   "source": [
    "### drop incomplete data\n",
    "features = features.loc[:, (features != 0).any(axis=0)]\n",
    "features = features.loc[~(features==0).all(axis=1)]\n",
    "host = host.drop([i for i in host.index if host.loc[i]['Accession'] in to_remove_from_host], axis=0)\n",
    "\n",
    "idxs = set(host.index).intersection(set(features.index))\n",
    "features = features.drop([i for i in features.index if i not in idxs], axis=0)\n",
    "host = host.drop([i for i in host.index if i not in idxs], axis=0)\n",
    "\n",
    "print(len(host), len(features))"
   ]
  },
  {
   "cell_type": "code",
   "execution_count": 7,
   "metadata": {},
   "outputs": [
    {
     "name": "stdout",
     "output_type": "stream",
     "text": [
      "Of the 450 taxonomic species 36 have more than 25 related accessions.\n"
     ]
    },
    {
     "name": "stderr",
     "output_type": "stream",
     "text": [
      "The PostScript backend does not support transparency; partially transparent artists will be rendered opaque.\n",
      "The PostScript backend does not support transparency; partially transparent artists will be rendered opaque.\n"
     ]
    },
    {
     "data": {
      "image/png": "[encoded data removed]",
      "text/plain": [
       "<Figure size 432x288 with 1 Axes>"
      ]
     },
     "metadata": {
      "needs_background": "light"
     },
     "output_type": "display_data"
    }
   ],
   "source": [
    "### Species count distribution\n",
    "cutoff = 25\n",
    "\n",
    "spec, freq = np.unique(host.Species, return_counts=True)\n",
    "plt.hist(freq, bins=170, color = \"#0080CA\")\n",
    "plt.ylabel('number of species')\n",
    "plt.xlabel('number of accessions linked to a host species')\n",
    "#plt.title(\"Abundance of PhaLP entries linked to individual host species\")\n",
    "plt.axvline(x=cutoff, linestyle='--', c='#bf211e', lw=1, label=\"cut-off\")\n",
    "plt.legend(loc=\"upper right\")\n",
    "plt.xlim((0,650))\n",
    "plt.yscale('log')\n",
    "spec = list(spec)\n",
    "freq = list(freq)\n",
    "print(\"Of the\", len(spec), \"taxonomic species\", len([i for i in freq if i > cutoff]), \"have more than {} related accessions.\".format(cutoff))\n",
    "plt.savefig(\"host_counts_hist.eps\", format=\"eps\", dpi=600)"
   ]
  },
  {
   "cell_type": "code",
   "execution_count": 8,
   "metadata": {},
   "outputs": [
    {
     "name": "stdout",
     "output_type": "stream",
     "text": [
      "5052 5052\n"
     ]
    }
   ],
   "source": [
    "### drop low-abundance data\n",
    "usable_hosts = [i for idx, i in enumerate(spec) if freq[idx] > cutoff]\n",
    "drop_idxs = [i for i in host.index if host.loc[i]['Species'] not in usable_hosts]\n",
    "features = features.drop(drop_idxs, axis=0)\n",
    "host = host.drop(drop_idxs, axis=0)\n",
    "\n",
    "print(len(host), len(features))"
   ]
  },
  {
   "cell_type": "code",
   "execution_count": 9,
   "metadata": {},
   "outputs": [
    {
     "data": {
      "text/plain": [
       "['Acinetobacter baumannii',\n",
       " 'Aeromonas salmonicida',\n",
       " 'Arthrobacter globiformis',\n",
       " 'Arthrobacter sp. ATCC 21022',\n",
       " 'Bacillus cereus',\n",
       " 'Bacillus subtilis',\n",
       " 'Bacillus thuringiensis',\n",
       " 'Cutibacterium acnes',\n",
       " 'Enterococcus faecalis',\n",
       " 'Erwinia amylovora',\n",
       " 'Escherichia coli',\n",
       " 'Gordonia terrae',\n",
       " 'Klebsiella pneumoniae',\n",
       " 'Lactococcus lactis',\n",
       " 'Listeria monocytogenes',\n",
       " 'Microbacterium foliorum',\n",
       " 'Mycolicibacterium smegmatis',\n",
       " 'Paenibacillus larvae',\n",
       " 'Pectobacterium atrosepticum',\n",
       " 'Pseudomonas aeruginosa',\n",
       " 'Rhodococcus erythropolis',\n",
       " 'Salmonella enterica',\n",
       " 'Shigella flexneri',\n",
       " 'Staphylococcus aureus',\n",
       " 'Streptococcus agalactiae',\n",
       " 'Streptococcus dysgalactiae',\n",
       " 'Streptococcus pneumoniae',\n",
       " 'Streptococcus pyogenes',\n",
       " 'Streptococcus suis',\n",
       " 'Streptomyces griseus',\n",
       " 'Synechococcus sp.',\n",
       " 'Synechococcus sp. WH 7803',\n",
       " 'Vibrio breoganii',\n",
       " 'Vibrio cholerae',\n",
       " 'Vibrio cyclitrophicus',\n",
       " 'Vibrio lentus']"
      ]
     },
     "execution_count": 9,
     "metadata": {},
     "output_type": "execute_result"
    }
   ],
   "source": [
    "usable_hosts"
   ]
  },
  {
   "cell_type": "markdown",
   "metadata": {},
   "source": [
    "# Model"
   ]
  },
  {
   "cell_type": "code",
   "execution_count": 42,
   "metadata": {},
   "outputs": [],
   "source": [
    "### Set hierarchy in Newick notation\n",
    "newick_tree = '('\n",
    "phyla = np.unique(host.Phylum)\n",
    "for i in phyla:\n",
    "    classes = list(np.unique(host.Class[host.Phylum == i]))\n",
    "    newick_tree += '('\n",
    "    for j in classes:\n",
    "        orders = list(np.unique(host.Order[host.Class == j]))\n",
    "        newick_tree += '('\n",
    "        for k in orders:\n",
    "            families = list(np.unique(host.Family[host.Order == k]))\n",
    "            newick_tree += '('\n",
    "            for l in families:\n",
    "                genera = list(np.unique(host.Genus[host.Family == l]))\n",
    "                newick_tree += '('\n",
    "                for m in genera:\n",
    "                    species = list(np.unique(host.Species[host.Genus == m]))\n",
    "                    newick_tree +=  '(' + species[0]\n",
    "                    species.pop(0)\n",
    "                    for n in species:\n",
    "                        newick_tree +=  ',' + n\n",
    "                    newick_tree +=')' + m + ','\n",
    "                newick_tree = newick_tree[:-1]\n",
    "                newick_tree += ')' + l + ','\n",
    "            newick_tree = newick_tree[:-1]\n",
    "            newick_tree += ')' + k + ','\n",
    "        newick_tree = newick_tree[:-1]\n",
    "        newick_tree += ')' + j + ','\n",
    "    newick_tree = newick_tree[:-1]\n",
    "    newick_tree += ')' + i + ','\n",
    "newick_tree = newick_tree[:-1]\n",
    "newick_tree += ');'"
   ]
  },
  {
   "cell_type": "code",
   "execution_count": 43,
   "metadata": {},
   "outputs": [],
   "source": [
    "def level_specific_rules(path, level):\n",
    "    \"\"\"\n",
    "    Uses a skope-rules classifier to find the most important domains for each splitting branch along the path \n",
    "    of a predicted host genus. For each split a new classifier will be created, trained on the entries belonging \n",
    "    to that branch.\n",
    "    Input:\n",
    "        - path : a string containing the taxonomy of the predicted genus in the following order: phylum - class \n",
    "                 - order - family - genus\n",
    "        - level : a string denoting which taxonomic level is being looked into.\n",
    "    Output:\n",
    "        - unique_rules : a set of domains used uniquely in rules to predict the taxonomy specified in the path \n",
    "                         and level.\n",
    "    \"\"\"\n",
    "    \n",
    "    ### trim training dataset to the wanted branch(es)\n",
    "    if level == 'Phylum':\n",
    "        X = features\n",
    "        y = host.Phylum\n",
    "        downstream_branches = list(np.unique(host.Phylum))\n",
    "        predictor = path[0]\n",
    "    elif level == 'Class': \n",
    "        X = features.loc[host.index[host.Phylum == path[0]]][:]\n",
    "        y = host.Class[host.Phylum == path[0]]\n",
    "        downstream_branches = list(np.unique(host.Class[host.Phylum == path[0]]))\n",
    "        predictor = path[1]\n",
    "    elif level == 'Order':\n",
    "        X = features.loc[host.index[host.Class == path[1]]][:]\n",
    "        y = host.Order[host.Class == path[1]]\n",
    "        downstream_branches = list(np.unique(host.Order[host.Class == path[1]]))\n",
    "        predictor = path[2]\n",
    "    elif level == 'Family':\n",
    "        X = features.loc[host.index[host.Order == path[2]]][:]\n",
    "        y = host.Family[host.Order == path[2]]\n",
    "        downstream_branches = list(np.unique(host.Family[host.Order == path[2]]))\n",
    "        predictor = path[3]\n",
    "    elif level == 'Genus':\n",
    "        X = features.loc[host.index[host.Family == path[3]]][:]\n",
    "        y = host.Genus[host.Family == path[3]]\n",
    "        downstream_branches = list(np.unique(host.Genus[host.Family == path[3]]))\n",
    "        predictor = path[4]\n",
    "    elif level == 'Species':\n",
    "        X = features.loc[host.index[host.Genus == path[4]]][:]\n",
    "        y = host.Species[host.Genus == path[4]]\n",
    "        downstream_branches = list(np.unique(host.Species[host.Genus == path[4]]))\n",
    "        predictor = path[5]\n",
    "    \n",
    "    ### Search for level-specific domains\n",
    "    if len(downstream_branches) == 1: #check whether there is a split at this level\n",
    "        unique_rules = 'no split'\n",
    "    else:\n",
    "        le = LabelEncoder()\n",
    "        le.fit(y)\n",
    "        train_l = le.transform(y)\n",
    "        model = SkopeRules(feature_names=features.columns, precision_min=0.5, recall_min=0.5, max_depth=5)\n",
    "        index = [idx for idx, i in enumerate(downstream_branches) if i == predictor]\n",
    "        model.fit(X, train_l == index)\n",
    "        \n",
    "        unique_rules = []\n",
    "        for i in model.rules_:\n",
    "            f1 = 2*i[1][0]*i[1][1]/(i[1][0]+i[1][1])\n",
    "            unique_rules.append((i[0], round(f1, 3)))\n",
    "        \n",
    "    return unique_rules"
   ]
  },
  {
   "cell_type": "code",
   "execution_count": 45,
   "metadata": {
    "scrolled": true
   },
   "outputs": [],
   "source": [
    "### Set up tree\n",
    "t = Tree(newick_tree, format=1)\n",
    "ts = TreeStyle()\n",
    "ts.show_scale = False\n",
    "ts.show_leaf_name = False\n",
    "ts.optimal_scale_level = \"Full\"\n",
    "ts.force_topology = True\n",
    "ts.scale = 750\n",
    "t.convert_to_ultrametric()\n",
    "\n",
    "def rules2arch(rules):\n",
    "    if rules == 'no split':\n",
    "        return rules\n",
    "    arch = ''\n",
    "    for idx, i in enumerate(rules):\n",
    "        arch += str(idx+1) + ') ' + str(i[1]) + ': '\n",
    "        splitted = i[0].split(' and ')\n",
    "        for j in splitted:\n",
    "            div = j.split(' ')\n",
    "            if '<=' in div[1]:\n",
    "                if int(float(div[2])) < 1:\n",
    "                    arch += '¬'\n",
    "                elif int(float(div[2])) > 1:\n",
    "                    arch += str(int(float(div[2]))) + '*'\n",
    "            if '_and_' in div[0]:\n",
    "                consec_doms = div[0].split('_and_')\n",
    "                arch += '{' + consec_doms[0] + ',' + consec_doms[1]  + '}'\n",
    "            else:\n",
    "                arch += div[0]\n",
    "            if j != splitted[-1]:\n",
    "                arch += ' + '\n",
    "        if i != rules[-1]:\n",
    "            arch += '\\n'\n",
    "    return arch\n",
    "\n",
    "def disp_all(node):\n",
    "    if not node.is_leaf():\n",
    "        F = TextFace(node.name, fsize=24)\n",
    "        add_face_to_node(F, node, column=0, position=\"branch-top\")\n",
    "    else:\n",
    "        F = TextFace(node.name, fsize=24)\n",
    "        add_face_to_node(F, node, column=0, position=\"branch-right\")\n",
    "        \n",
    "    if node.name in np.unique(host.Phylum):\n",
    "        path = [node.name]\n",
    "        ph_dom = rules2arch(level_specific_rules(path, \"Phylum\"))\n",
    "        F = TextFace(ph_dom, fstyle=\"italic\", fsize=14)\n",
    "        add_face_to_node(F, node, column=0, position=\"branch-bottom\")\n",
    "    elif node.name in np.unique(host.Class):\n",
    "        path = [np.unique(host[host.Class == node.name].Phylum)[0], node.name]\n",
    "        cl_dom = rules2arch(level_specific_rules(path, \"Class\"))\n",
    "        F = TextFace(cl_dom, fstyle=\"italic\", fsize=14)\n",
    "        add_face_to_node(F, node, column=0, position=\"branch-bottom\")\n",
    "    elif node.name in np.unique(host.Order):\n",
    "        path = [np.unique(host[host.Order == node.name].Phylum)[0], \n",
    "                np.unique(host[host.Order == node.name].Class)[0], node.name]\n",
    "        od_dom = rules2arch(level_specific_rules(path, \"Order\"))\n",
    "        F = TextFace(od_dom, fstyle=\"italic\", fsize=14)\n",
    "        add_face_to_node(F, node, column=0, position=\"branch-bottom\")\n",
    "    elif node.name in np.unique(host.Family):\n",
    "        path = [np.unique(host[host.Family == node.name].Phylum)[0], \n",
    "                np.unique(host[host.Family == node.name].Class)[0], \n",
    "                np.unique(host[host.Family == node.name].Order)[0], node.name]\n",
    "        fm_dom = rules2arch(level_specific_rules(path, \"Family\"))\n",
    "        F = TextFace(fm_dom, fstyle=\"italic\", fsize=14)\n",
    "        add_face_to_node(F, node, column=0, position=\"branch-bottom\")\n",
    "    elif node.name in np.unique(host.Genus):\n",
    "        path = [np.unique(host[host.Genus == node.name].Phylum)[0], \n",
    "                np.unique(host[host.Genus == node.name].Class)[0], \n",
    "                np.unique(host[host.Genus == node.name].Order)[0], \n",
    "                np.unique(host[host.Genus == node.name].Family)[0], node.name]\n",
    "        gn_dom = rules2arch(level_specific_rules(path, \"Genus\"))\n",
    "        F = TextFace(gn_dom, fstyle=\"italic\", fsize=14)\n",
    "        add_face_to_node(F, node, column=0, position=\"branch-bottom\")\n",
    "    elif node.name in np.unique(host.Species):\n",
    "        path = [np.unique(host[host.Species == node.name].Phylum)[0], \n",
    "                np.unique(host[host.Species == node.name].Class)[0], \n",
    "                np.unique(host[host.Species == node.name].Order)[0], \n",
    "                np.unique(host[host.Species == node.name].Family)[0], \n",
    "                np.unique(host[host.Species == node.name].Genus)[0], node.name]\n",
    "        sp_dom = rules2arch(level_specific_rules(path, \"Species\"))\n",
    "        F = TextFace(sp_dom, fstyle=\"italic\", fsize=14)\n",
    "        add_face_to_node(F, node, column=0, position=\"branch-bottom\")\n",
    "        \n",
    "ts.layout_fn = disp_all\n",
    "t.render(\"skopeRules_hostdesign.svg\", tree_style=ts, dpi=600)\n",
    "t.show(tree_style=ts)"
   ]
  }
 ],
 "metadata": {
  "kernelspec": {
   "display_name": "Python 3",
   "language": "python",
   "name": "python3"
  },
  "language_info": {
   "codemirror_mode": {
    "name": "ipython",
    "version": 3
   },
   "file_extension": ".py",
   "mimetype": "text/x-python",
   "name": "python",
   "nbconvert_exporter": "python",
   "pygments_lexer": "ipython3",
   "version": "3.7.4"
  }
 },
 "nbformat": 4,
 "nbformat_minor": 2
}
