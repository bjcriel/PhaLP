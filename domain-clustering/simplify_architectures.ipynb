{
 "cells": [
  {
   "cell_type": "markdown",
   "metadata": {},
   "source": [
    "# Simplified architectures"
   ]
  },
  {
   "cell_type": "markdown",
   "metadata": {},
   "source": [
    "This script takes the domain clusters specified in 'custom_domain_clusters.csv' and uses this to translate the myraids of domain accessions from uniprot to non-redundant domain architectures for all phage lytic proteins in PhaLP. It outputs these to the file 'simplified_architectures.csv', which is used in further analyses."
   ]
  },
  {
   "cell_type": "code",
   "execution_count": 1,
   "metadata": {},
   "outputs": [],
   "source": [
    "import csv\n",
    "from itertools import combinations, permutations, chain\n",
    "import matplotlib.pyplot as plt\n",
    "import mysql.connector\n",
    "import numpy as np\n",
    "import pandas as pd\n",
    "import pickle"
   ]
  },
  {
   "cell_type": "markdown",
   "metadata": {},
   "source": [
    "## Wrangle data"
   ]
  },
  {
   "cell_type": "markdown",
   "metadata": {},
   "source": [
    "### remove known contaminants from further investigation"
   ]
  },
  {
   "cell_type": "code",
   "execution_count": 2,
   "metadata": {},
   "outputs": [],
   "source": [
    "### These have been established to be contimants and hence not actual phage lytic proteins\n",
    "### their non-redundant architectures are thus not generated\n",
    "skip = ['P21270', 'G9IA41', 'A0A482MF56']"
   ]
  },
  {
   "cell_type": "markdown",
   "metadata": {},
   "source": [
    "### Accessions"
   ]
  },
  {
   "cell_type": "code",
   "execution_count": 3,
   "metadata": {},
   "outputs": [
    {
     "name": "stdout",
     "output_type": "stream",
     "text": [
      "Amount of unique uniprot accessions:  11836\n"
     ]
    }
   ],
   "source": [
    "### query database\n",
    "cnx = mysql.connector.connect(user='root', password = 'root', database='phalp', \n",
    "                              unix_socket = '/Applications/MAMP/tmp/mysql/mysql.sock')\n",
    "cursor = cnx.cursor()\n",
    "cursor.execute(\"SELECT DISTINCT(UniProt_ID) FROM UniProt;\")\n",
    "\n",
    "acc = []\n",
    "for i in cursor:\n",
    "    if i[0] not in skip: #bypass contaminated sequences\n",
    "        acc.append(i[0])\n",
    "print(\"Amount of unique uniprot accessions: \", len(acc))"
   ]
  },
  {
   "cell_type": "markdown",
   "metadata": {},
   "source": [
    "### Domains"
   ]
  },
  {
   "cell_type": "code",
   "execution_count": 4,
   "metadata": {},
   "outputs": [],
   "source": [
    "acc2dom = {}\n",
    "for i in acc:\n",
    "    acc2dom[i] = []\n",
    "    cnx = mysql.connector.connect(user='root', password = 'root', database='phalp', \n",
    "                                  unix_socket = '/Applications/MAMP/tmp/mysql/mysql.sock')\n",
    "    cursor = cnx.cursor()\n",
    "    query = \"SELECT l.domains_ID, l.start, l.end FROM link_UniRef_domains as l JOIN UniProt as up WHERE up.UniProt_ID = '\" + i + \"' AND up.UniRef_ID = l.UniRef_ID;\"\n",
    "    cursor.execute(query)\n",
    "\n",
    "    for j in cursor:\n",
    "        if j[0]:\n",
    "            acc2dom[i].append([j[0], j[1], j[2]])"
   ]
  },
  {
   "cell_type": "markdown",
   "metadata": {},
   "source": [
    "### Domain clusters"
   ]
  },
  {
   "cell_type": "code",
   "execution_count": 5,
   "metadata": {},
   "outputs": [
    {
     "name": "stdout",
     "output_type": "stream",
     "text": [
      "188 domains were simplified into 105 clusters.\n"
     ]
    }
   ],
   "source": [
    "dom2clst = {}\n",
    "sorted_clsts = []\n",
    "r = 0\n",
    "with open('domains/custom_domain_clusters.csv') as file:\n",
    "    reader = csv.reader(file, delimiter=',')\n",
    "    for row in reader:\n",
    "        if r != 0:\n",
    "            dom2clst[row[0]] = row[2]\n",
    "            if row[2] not in sorted_clsts:\n",
    "                sorted_clsts.append(row[2])\n",
    "        r += 1\n",
    "print(len(dom2clst.keys()), 'domains were simplified into', len(sorted_clsts), 'clusters.')"
   ]
  },
  {
   "cell_type": "markdown",
   "metadata": {},
   "source": [
    "## Simplification functions"
   ]
  },
  {
   "cell_type": "code",
   "execution_count": 6,
   "metadata": {},
   "outputs": [],
   "source": [
    "def check_overlap(doms):\n",
    "    ### order domains on upper boundary\n",
    "    ordered_doms = sorted(doms, key=lambda x: x[2])\n",
    "    \n",
    "    if ordered_doms[0][1] >= ordered_doms[1][1]:\n",
    "        return 'Full overlap'\n",
    "    elif ordered_doms[0][2] > ordered_doms[1][1]:\n",
    "        return 'Partial overlap'\n",
    "    elif ordered_doms[0][2] <= ordered_doms[1][1]:\n",
    "        return 'No overlap'\n",
    "\n",
    "def get_smallest(doms):\n",
    "    len1 = doms[0][2] - doms[0][1]\n",
    "    len2 = doms[1][2] - doms[1][1]\n",
    "    if len1 < len2:\n",
    "        return doms[0]\n",
    "    return doms[1]\n",
    "\n",
    "def simplify(accession):\n",
    "    all_doms = acc2dom[accession]\n",
    "    ### remove domains that are too specific, i.e. aren't clustered\n",
    "    valid_arch = [[dom2clst[i[0]], i[1], i[2]] for i in all_doms if i[0] in dom2clst.keys()]\n",
    "    combos = combinations(valid_arch, 2)\n",
    "    for i in combos: ### examine domains pairwise\n",
    "        if check_overlap(i) != 'No overlap':\n",
    "            if i[0][0] == i[1][0]: ### if overlapping domains belong to the same cluster, remove the smallest\n",
    "                if get_smallest(i) in valid_arch:\n",
    "                    valid_arch.remove(get_smallest(i))\n",
    "            else:\n",
    "                acc_of_interest.append(accession)\n",
    "    return sorted(valid_arch, key=lambda x: x[2]) ### sort remaining domains"
   ]
  },
  {
   "cell_type": "markdown",
   "metadata": {},
   "source": [
    "## Simplify architectures"
   ]
  },
  {
   "cell_type": "code",
   "execution_count": 7,
   "metadata": {},
   "outputs": [
    {
     "name": "stdout",
     "output_type": "stream",
     "text": [
      "There are 154 peculiar architectures that should be checked.\n",
      "\n",
      "There are 252 PhaLPs without viable architectures;\n",
      "11584 simplified PhaLP-architectures remain.\n"
     ]
    }
   ],
   "source": [
    "acc2arch = {}\n",
    "acc_of_interest = []\n",
    "for i in acc:\n",
    "    acc2arch[i] = simplify(i)\n",
    "acc_of_interest = set(acc_of_interest)\n",
    "print('There are', len(acc_of_interest), 'peculiar architectures that should be checked.\\n')\n",
    "print('There are', len([i for i in acc2arch.keys() if acc2arch[i] == []]), 'PhaLPs without viable architectures;')\n",
    "\n",
    "to_rem = [i for i in acc2arch.keys() if acc2arch[i] == []]\n",
    "for i in sorted(to_rem, reverse=True):\n",
    "    acc2arch.pop(i)\n",
    "    \n",
    "print(len(acc2arch), 'simplified PhaLP-architectures remain.')"
   ]
  },
  {
   "cell_type": "code",
   "execution_count": 8,
   "metadata": {},
   "outputs": [],
   "source": [
    "with open('simplified_architectures.csv', 'w') as f:\n",
    "    for acc in acc2arch.keys():\n",
    "        row = str(acc)\n",
    "        for arch in acc2arch[acc]:\n",
    "            row += ',' + arch[0] #+ ' '\n",
    "            ### uncomment the following line to output domain boundaries as well:\n",
    "            #row += '(' + str(arch[1]) + '-' + str(arch[2]) + ')' \n",
    "        row += '\\n'\n",
    "        f.write(row)\n",
    "    f.close()"
   ]
  },
  {
   "cell_type": "code",
   "execution_count": 8,
   "metadata": {},
   "outputs": [],
   "source": [
    "### get individual domain accession abundances\n",
    "sorted_doms = list(dom2clst.keys())\n",
    "dom_ab = np.zeros((len(sorted_doms)))\n",
    "for i in acc2dom:\n",
    "    for j in acc2dom[i]:\n",
    "        if j[0] in sorted_doms:\n",
    "            dom_ab[sorted_doms.index(j[0])] += 1\n",
    "dom_ab"
   ]
  },
  {
   "cell_type": "code",
   "execution_count": 10,
   "metadata": {},
   "outputs": [],
   "source": [
    "### get domain cluster abundances\n",
    "clst_ab = np.zeros((len(sorted_clsts)))\n",
    "for i in acc2arch:\n",
    "    for j in acc2arch[i]:\n",
    "        clst_ab[sorted_clsts.index(j[0])] += 1\n",
    "clst_ab"
   ]
  }
 ],
 "metadata": {
  "kernelspec": {
   "display_name": "Python 3",
   "language": "python",
   "name": "python3"
  },
  "language_info": {
   "codemirror_mode": {
    "name": "ipython",
    "version": 3
   },
   "file_extension": ".py",
   "mimetype": "text/x-python",
   "name": "python",
   "nbconvert_exporter": "python",
   "pygments_lexer": "ipython3",
   "version": "3.6.12"
  }
 },
 "nbformat": 4,
 "nbformat_minor": 2
}
