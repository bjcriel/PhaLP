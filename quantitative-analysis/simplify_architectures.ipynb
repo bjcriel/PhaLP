{
 "cells": [
  {
   "cell_type": "markdown",
   "metadata": {},
   "source": [
    "# Simplified architectures"
   ]
  },
  {
   "cell_type": "markdown",
   "metadata": {},
   "source": [
    "This script takes the domain clusters specified in 'custom_domain_clusters.csv' and uses this to translate the myraids of domain accessions from uniprot to non-redundant domain architectures for all phage lytic proteins in PhaLP. It outputs these to the file 'simplified_architectures.csv', which is used in further analyses."
   ]
  },
  {
   "cell_type": "code",
   "execution_count": 1,
   "metadata": {},
   "outputs": [],
   "source": [
    "import csv\n",
    "from itertools import combinations, permutations, chain\n",
    "import matplotlib.pyplot as plt\n",
    "import mysql.connector\n",
    "import numpy as np\n",
    "import pandas as pd\n",
    "import pickle\n",
    "\n",
    "user = 'xxxx' # fill in MySQL user\n",
    "password = 'xxxx' # fill in MySQL pw\n",
    "db = 'xxxx' # fill in MySQL database name\n",
    "socket = '/x/x/x/x.sock' # fill in MySQL unix socket"
   ]
  },
  {
   "cell_type": "markdown",
   "metadata": {},
   "source": [
    "## Wrangle data"
   ]
  },
  {
   "cell_type": "markdown",
   "metadata": {},
   "source": [
    "### remove known contaminants from further investigation"
   ]
  },
  {
   "cell_type": "code",
   "execution_count": 2,
   "metadata": {},
   "outputs": [],
   "source": [
    "### These have been established to be contimants and hence not actual phage lytic proteins\n",
    "### their non-redundant architectures are thus not generated\n",
    "skip = ['G9IA41']"
   ]
  },
  {
   "cell_type": "markdown",
   "metadata": {},
   "source": [
    "### Accessions"
   ]
  },
  {
   "cell_type": "code",
   "execution_count": 3,
   "metadata": {},
   "outputs": [
    {
     "name": "stdout",
     "output_type": "stream",
     "text": [
      "Amount of unique uniprot accessions:  11837\n"
     ]
    }
   ],
   "source": [
    "### query database\n",
    "cnx = mysql.connector.connect(user=user, password=password, database=db, unix_socket=socket)\n",
    "cursor = cnx.cursor()\n",
    "cursor.execute(\"SELECT DISTINCT(UniProt_ID) FROM UniProt;\")\n",
    "\n",
    "acc = []\n",
    "for i in cursor:\n",
    "    if i[0] not in skip: #bypass contaminated sequences\n",
    "        acc.append(i[0])\n",
    "print(\"Amount of unique uniprot accessions: \", len(acc))"
   ]
  },
  {
   "cell_type": "markdown",
   "metadata": {},
   "source": [
    "### Domains"
   ]
  },
  {
   "cell_type": "code",
   "execution_count": 4,
   "metadata": {},
   "outputs": [],
   "source": [
    "acc2dom = {}\n",
    "for i in acc:\n",
    "    acc2dom[i] = []\n",
    "    cnx = mysql.connector.connect(user=user, password=password, database=db, unix_socket=socket)\n",
    "    cursor = cnx.cursor()\n",
    "    query = \"SELECT l.domains_ID, l.start, l.end FROM link_UniRef_domains as l JOIN UniProt as up WHERE up.UniProt_ID = '\" + i + \"' AND up.UniRef_ID = l.UniRef_ID;\"\n",
    "    cursor.execute(query)\n",
    "\n",
    "    for j in cursor:\n",
    "        if j[0]:\n",
    "            acc2dom[i].append([j[0], j[1], j[2]])"
   ]
  },
  {
   "cell_type": "markdown",
   "metadata": {},
   "source": [
    "### Domain clusters"
   ]
  },
  {
   "cell_type": "code",
   "execution_count": 5,
   "metadata": {},
   "outputs": [
    {
     "name": "stdout",
     "output_type": "stream",
     "text": [
      "188 domains were simplified into 105 clusters.\n"
     ]
    }
   ],
   "source": [
    "dom2clst = {}\n",
    "sorted_clsts = []\n",
    "cbds = []\n",
    "r = 0\n",
    "with open('../domain-clustering/custom_domain_clusters.csv') as file:\n",
    "    reader = csv.reader(file, delimiter=',')\n",
    "    for row in reader:\n",
    "        if r != 0:\n",
    "            dom2clst[row[0]] = row[2]\n",
    "            if row[2] not in sorted_clsts:\n",
    "                sorted_clsts.append(row[2])\n",
    "                if row[3] == 'CBD':\n",
    "                    cbds.append(row[2])\n",
    "        r += 1\n",
    "print(len(dom2clst.keys()), 'domains were simplified into', len(sorted_clsts), 'clusters.')"
   ]
  },
  {
   "cell_type": "markdown",
   "metadata": {},
   "source": [
    "## Simplification functions"
   ]
  },
  {
   "cell_type": "code",
   "execution_count": 6,
   "metadata": {},
   "outputs": [],
   "source": [
    "def check_overlap(doms):\n",
    "    ### order domains on upper boundary\n",
    "    ordered_doms = sorted(doms, key=lambda x: x[2])\n",
    "    \n",
    "    if ordered_doms[0][1] >= ordered_doms[1][1]:\n",
    "        return 'Full overlap'\n",
    "    elif ordered_doms[0][2] > ordered_doms[1][1]:\n",
    "        return 'Partial overlap'\n",
    "    elif ordered_doms[0][2] <= ordered_doms[1][1]:\n",
    "        return 'No overlap'\n",
    "\n",
    "def get_smallest(doms):\n",
    "    len1 = doms[0][2] - doms[0][1]\n",
    "    len2 = doms[1][2] - doms[1][1]\n",
    "    if len1 < len2:\n",
    "        return doms[0]\n",
    "    return doms[1]\n",
    "\n",
    "def simplify(accession):\n",
    "    all_doms = acc2dom[accession]\n",
    "    ### remove domains that are too specific, i.e. aren't clustered\n",
    "    valid_arch = [[dom2clst[i[0]], i[1], i[2]] for i in all_doms if i[0] in dom2clst.keys()]\n",
    "    combos = combinations(valid_arch, 2)\n",
    "    for i in combos: ### examine domains pairwise\n",
    "        if check_overlap(i) != 'No overlap':\n",
    "            if i[0][0] == i[1][0]: ### if overlapping domains belong to the same cluster, remove the smallest\n",
    "                if get_smallest(i) in valid_arch:\n",
    "                    valid_arch.remove(get_smallest(i))\n",
    "            else:\n",
    "                acc_of_interest.append(accession)\n",
    "    return sorted(valid_arch, key=lambda x: x[2]) ### sort remaining domains\n",
    "\n",
    "def first_repeated_cbd(architecture, cbds):\n",
    "    if len(architecture) == len(set(architecture)):\n",
    "        return None\n",
    "    \n",
    "    for idx in range(len(architecture)-1):\n",
    "        if architecture[idx] == architecture[idx+1]:\n",
    "            if architecture[idx] in cbds:\n",
    "                return idx\n",
    "    return None\n",
    "    \n",
    "def condense_repeats(architecture, cbds, show_before=False):\n",
    "    tmp = architecture[:]\n",
    "    idx = first_repeated_cbd(tmp, cbds)\n",
    "    while idx != None:\n",
    "        del tmp[idx]\n",
    "        idx = first_repeated_cbd(tmp, cbds)\n",
    "    if show_before:\n",
    "        return architecture, tmp\n",
    "    else:\n",
    "        return tmp\n"
   ]
  },
  {
   "cell_type": "markdown",
   "metadata": {},
   "source": [
    "## Simplify architectures"
   ]
  },
  {
   "cell_type": "markdown",
   "metadata": {},
   "source": [
    "### As is"
   ]
  },
  {
   "cell_type": "code",
   "execution_count": 7,
   "metadata": {},
   "outputs": [
    {
     "name": "stdout",
     "output_type": "stream",
     "text": [
      "There are 154 peculiar architectures that should be checked.\n",
      "\n",
      "There are 253 PhaLPs without viable architectures,\n",
      "11584 simplified PhaLP-architectures remain.\n"
     ]
    }
   ],
   "source": [
    "acc2arch = {}\n",
    "acc_of_interest = []\n",
    "for i in acc:\n",
    "    acc2arch[i] = simplify(i)\n",
    "acc_of_interest = set(acc_of_interest)\n",
    "print('There are', len(acc_of_interest), 'peculiar architectures that should be checked.\\n')\n",
    "print('There are', len([i for i in acc2arch.keys() if acc2arch[i] == []]), 'PhaLPs without viable architectures,')\n",
    "\n",
    "to_rem = [i for i in acc2arch.keys() if acc2arch[i] == []]\n",
    "for i in sorted(to_rem, reverse=True):\n",
    "    acc2arch.pop(i)\n",
    "    \n",
    "print(len(acc2arch), 'simplified PhaLP-architectures remain.')"
   ]
  },
  {
   "cell_type": "code",
   "execution_count": 8,
   "metadata": {},
   "outputs": [],
   "source": [
    "with open('simplified_architectures.csv', 'w') as f:\n",
    "    for acc in acc2arch.keys():\n",
    "        row = str(acc)\n",
    "        for arch in acc2arch[acc]:\n",
    "            row += ',' + arch[0] #+ ' '\n",
    "            ### uncomment the following line to output domain boundaries as well:\n",
    "            #row += '(' + str(arch[1]) + '-' + str(arch[2]) + ')' \n",
    "        row += '\\n'\n",
    "        f.write(row)\n",
    "    f.close()"
   ]
  },
  {
   "cell_type": "markdown",
   "metadata": {},
   "source": [
    "### Condense repeated CBDs"
   ]
  },
  {
   "cell_type": "code",
   "execution_count": 10,
   "metadata": {},
   "outputs": [],
   "source": [
    "acc2arch_condensed = {}\n",
    "for k, v in acc2arch.items():\n",
    "    architecture = [x[0] for x in v]\n",
    "    acc2arch_condensed[k] = condense_repeats(architecture, cbds)\n",
    "    \n",
    "with open('simplified_architectures_condensed.csv', 'w') as f:\n",
    "    for acc in acc2arch_condensed.keys():\n",
    "        row = str(acc)\n",
    "        for dom in acc2arch_condensed[acc]:\n",
    "            row += ',' + dom\n",
    "        row += '\\n'\n",
    "        f.write(row)\n",
    "    f.close()"
   ]
  },
  {
   "cell_type": "markdown",
   "metadata": {},
   "source": [
    "## Abundances"
   ]
  },
  {
   "cell_type": "code",
   "execution_count": 15,
   "metadata": {},
   "outputs": [
    {
     "name": "stdout",
     "output_type": "stream",
     "text": [
      "[ 186  186  628  757    8  276  422  425  425  415  640  235   18   34\n",
      "  462  179  414    1    1   21   17  250 2078  302 1923 2291  269  290\n",
      "  294  314   54  955  958  747  260   19  103    2   55    1  210  248\n",
      "  632  724  782   38    1   10    4  541  504   30   90    1   83    4\n",
      "    3  388  304    1   32   10   10  255  250  743  283    1  162    6\n",
      "    6    1  466  181  424  121 1546  642   24   24    1   16    1   21\n",
      "   17 1138  517   52   33   21  101   94   79  273  203  529  329   32\n",
      "    2    1   17    9    1    1    1    1    5    6   95    2    4    3\n",
      "  405  328    1  104  100  264  259    2  258    2    7    1    4   10\n",
      "    2    2    1    1    1    1    1    1    2   10    4    7    1    2\n",
      "    1    7    8    4    1    2   52    3    3    2    1    1    1    3\n",
      "    7    3    1    2    1    2    3    3    3    1    1    1    1    2\n",
      "    1    1    4    3    1    1    2    3    1    5    2    5    7    1\n",
      "    2    1   33   15    1    1]\n"
     ]
    }
   ],
   "source": [
    "### get individual domain accession abundances\n",
    "sorted_doms = list(dom2clst.keys())\n",
    "dom_ab = np.zeros((len(sorted_doms)), dtype=int)\n",
    "for i in acc2dom:\n",
    "    for j in acc2dom[i]:\n",
    "        if j[0] in sorted_doms:\n",
    "            dom_ab[sorted_doms.index(j[0])] += 1\n",
    "print(dom_ab)"
   ]
  },
  {
   "cell_type": "code",
   "execution_count": 18,
   "metadata": {},
   "outputs": [
    {
     "name": "stdout",
     "output_type": "stream",
     "text": [
      "[ 186  757    8  276  427  640  235   18  552    2   22  250 2309  294\n",
      "  314   54 1127  747  260   19 1081  782   38   10  541   30  388   10\n",
      "  254  748    1  162    6    1 1834   24 2202   32    2    1   17    1\n",
      "    1    5    6   95    4    3  405  328    1  269    2  258    2    7\n",
      "    1    4   10    2    1    1   11   10    1    2   51    5    1    1\n",
      "    1    3    7    3    3    1    2    3    3    3    1    1    1    1\n",
      "    2    1    1    4    3    1    1    2    3    1    5    2    5    7\n",
      "    1    2    1   33   15    1    1]\n"
     ]
    }
   ],
   "source": [
    "### get domain cluster abundances\n",
    "clst_ab = np.zeros((len(sorted_clsts)), dtype=int)\n",
    "for i in acc2arch:\n",
    "    for j in acc2arch[i]:\n",
    "        clst_ab[sorted_clsts.index(j[0])] += 1\n",
    "print(clst_ab)"
   ]
  }
 ],
 "metadata": {
  "kernelspec": {
   "display_name": "Python 3",
   "language": "python",
   "name": "python3"
  },
  "language_info": {
   "codemirror_mode": {
    "name": "ipython",
    "version": 3
   },
   "file_extension": ".py",
   "mimetype": "text/x-python",
   "name": "python",
   "nbconvert_exporter": "python",
   "pygments_lexer": "ipython3",
   "version": "3.7.4"
  }
 },
 "nbformat": 4,
 "nbformat_minor": 2
}
